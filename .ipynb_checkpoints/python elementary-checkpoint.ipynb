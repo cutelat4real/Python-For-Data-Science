{
 "cells": [
  {
   "attachments": {
    "images.jpeg": {
     "image/jpeg": "[encoded data removed]"
    }
   },
   "cell_type": "markdown",
   "id": "a3f318ed",
   "metadata": {},
   "source": [
    "# this is the biggest header\n",
    "##\n",
    "\n",
    "###### this is the smallest header\n",
    "\n",
    "this create the body of the content,you dont need #\n",
    "have plotted a bar chart and it was awesome \n",
    "\n",
    "## order list\n",
    "1. good \n",
    "2. better\n",
    "3. best\n",
    "\n",
    "\n",
    "## unorder list\n",
    "- good \n",
    "- better\n",
    "- best\n",
    "![images.jpeg](attachment:images.jpeg)\n",
    "\n",
    "\n",
    "\n"
   ]
  },
  {
   "cell_type": "code",
   "execution_count": 2,
   "id": "85a226fa",
   "metadata": {},
   "outputs": [
    {
     "name": "stdout",
     "output_type": "stream",
     "text": [
      "Hello World!!!\n"
     ]
    }
   ],
   "source": [
    "# am about to become a programmer by writting my first program\n",
    "print(\"Hello World!!!\")"
   ]
  },
  {
   "cell_type": "markdown",
   "id": "82085c7b",
   "metadata": {},
   "source": [
    "# variable and identifier in python\n",
    "\n",
    "variable is an entity/object located on computer memory\n",
    "identifier is used to identify variable\n",
    "\n",
    "\n",
    "### rules for naming variable\n",
    "1. variable name need to be descriptive\n",
    "2. variable name can not start with number, but number can be found else where\n",
    "3. variable name can not contain any special character except underscore _\n",
    "4. variable name cannot be join with space ,use underscore_ instead\n",
    "5. Python reserved keywords cannot be used as a variable name "
   ]
  },
  {
   "cell_type": "code",
   "execution_count": null,
   "id": "2612a5ea",
   "metadata": {},
   "outputs": [],
   "source": [
    "age =22"
   ]
  },
  {
   "cell_type": "code",
   "execution_count": null,
   "id": "b94d2f41",
   "metadata": {},
   "outputs": [],
   "source": [
    "age1= 22\n",
    "age2 = 24"
   ]
  },
  {
   "cell_type": "code",
   "execution_count": 3,
   "id": "f6d24c66",
   "metadata": {},
   "outputs": [
    {
     "name": "stdout",
     "output_type": "stream",
     "text": [
      "olaitan\n"
     ]
    }
   ],
   "source": [
    "first_name = \"olaitan\"\n",
    "print(first_name)"
   ]
  },
  {
   "cell_type": "code",
   "execution_count": 5,
   "id": "9c97fb0c",
   "metadata": {},
   "outputs": [
    {
     "name": "stdout",
     "output_type": "stream",
     "text": [
      "my name is  Adeyinka Lawal and i am  22 years old\n"
     ]
    }
   ],
   "source": [
    "first_name = \"Adeyinka\"\n",
    "Last_name = \"Lawal\"\n",
    "age = 22\n",
    "print(\"my name is \",first_name,Last_name, \"and i am \",age, \"years old\")"
   ]
  },
  {
   "cell_type": "markdown",
   "id": "1a55f438",
   "metadata": {},
   "source": [
    "### input\n",
    "is used to take input from user,\n",
    "anything that is inputed is always a text type"
   ]
  },
  {
   "cell_type": "code",
   "execution_count": 6,
   "id": "80fe3422",
   "metadata": {},
   "outputs": [
    {
     "name": "stdout",
     "output_type": "stream",
     "text": [
      "please enter your first name rashford\n",
      "please enter your last name de ligt\n",
      "how old are you?27\n",
      "my name is   rashford de ligt and i am 27 years old\n"
     ]
    }
   ],
   "source": [
    "first_name= input(\"please enter your first name\")\n",
    "last_name = input(\"please enter your last name \")\n",
    "age= input(\"how old are you?\")\n",
    "print(\"my name is \", first_name, last_name,\"and i am\", age,\"years old\")"
   ]
  },
  {
   "cell_type": "code",
   "execution_count": 7,
   "id": "aa77e0a5",
   "metadata": {},
   "outputs": [
    {
     "name": "stdout",
     "output_type": "stream",
     "text": [
      "enter the first number2\n",
      "enter the second number5\n",
      "the sum of the numbers enter is  7\n"
     ]
    }
   ],
   "source": [
    "num1 = int(input(\"enter the first number\"))\n",
    "num2 = int(input(\"enter the second number\"))\n",
    "total = num1 + num2\n",
    "print(\"the sum of the numbers enter is \", total)"
   ]
  },
  {
   "cell_type": "code",
   "execution_count": 8,
   "id": "9abb764d",
   "metadata": {},
   "outputs": [
    {
     "name": "stdout",
     "output_type": "stream",
     "text": [
      "2000\n",
      "your current is 24 years old\n"
     ]
    }
   ],
   "source": [
    "birth_year = int(input())\n",
    "age= 2024-birth_year\n",
    "print(\"your current is\", age,\"years old\")"
   ]
  },
  {
   "cell_type": "markdown",
   "id": "a2aba60f",
   "metadata": {},
   "source": [
    "#### operators in python\n",
    "in python, operators are used to manipulate oprand/variable\n",
    "\n",
    "1. arithmetic\n",
    "2. comparison\n",
    "3. assignment\n",
    "4. membership\n",
    "5. identity\n",
    "6. logical\n",
    "7. bitwise\n"
   ]
  },
  {
   "cell_type": "markdown",
   "id": "7678be7c",
   "metadata": {},
   "source": [
    "## arithmetic"
   ]
  },
  {
   "cell_type": "code",
   "execution_count": 9,
   "id": "6f2685ab",
   "metadata": {},
   "outputs": [
    {
     "name": "stdout",
     "output_type": "stream",
     "text": [
      "11\n"
     ]
    }
   ],
   "source": [
    "# addition(+)\n",
    "a=4\n",
    "b=7\n",
    "c= a+b\n",
    "print(c)"
   ]
  },
  {
   "cell_type": "code",
   "execution_count": 10,
   "id": "3f503941",
   "metadata": {},
   "outputs": [
    {
     "name": "stdout",
     "output_type": "stream",
     "text": [
      "-3\n"
     ]
    }
   ],
   "source": [
    "# subtraction(-)\n",
    "a=4\n",
    "b=7\n",
    "c= a-b\n",
    "print(c)"
   ]
  },
  {
   "cell_type": "code",
   "execution_count": 11,
   "id": "71a67ed8",
   "metadata": {},
   "outputs": [
    {
     "name": "stdout",
     "output_type": "stream",
     "text": [
      "28\n"
     ]
    }
   ],
   "source": [
    "# multiplication(*)\n",
    "a=4\n",
    "b=7\n",
    "c= a*b\n",
    "print(c)"
   ]
  },
  {
   "cell_type": "code",
   "execution_count": 13,
   "id": "f486d096",
   "metadata": {},
   "outputs": [
    {
     "name": "stdout",
     "output_type": "stream",
     "text": [
      "100\n"
     ]
    }
   ],
   "source": [
    "# power(**)\n",
    "a=10\n",
    "b=2\n",
    "c= a**b\n",
    "print(c)"
   ]
  },
  {
   "cell_type": "code",
   "execution_count": 22,
   "id": "1471b541",
   "metadata": {},
   "outputs": [
    {
     "name": "stdout",
     "output_type": "stream",
     "text": [
      "2\n"
     ]
    }
   ],
   "source": [
    "# modulus(%): is used to return remainder of division\n",
    "a=10\n",
    "b=4\n",
    "c= a%b\n",
    "print(c)"
   ]
  },
  {
   "cell_type": "code",
   "execution_count": 15,
   "id": "d2a2807f",
   "metadata": {},
   "outputs": [
    {
     "name": "stdout",
     "output_type": "stream",
     "text": [
      "2.5\n"
     ]
    }
   ],
   "source": [
    "# division(/)\n",
    "a=10\n",
    "b=4\n",
    "c= a/b\n",
    "print(c)"
   ]
  },
  {
   "cell_type": "markdown",
   "id": "258821a2",
   "metadata": {},
   "source": [
    "## comparison\n",
    "is used to compare two or more variables, the result is boolean"
   ]
  },
  {
   "cell_type": "code",
   "execution_count": 16,
   "id": "aea42c79",
   "metadata": {},
   "outputs": [
    {
     "data": {
      "text/plain": [
       "False"
      ]
     },
     "execution_count": 16,
     "metadata": {},
     "output_type": "execute_result"
    }
   ],
   "source": [
    "# grater than(>)\n",
    "a= 5\n",
    "b= 10\n",
    "a>b"
   ]
  },
  {
   "cell_type": "code",
   "execution_count": 18,
   "id": "631d9dbc",
   "metadata": {},
   "outputs": [
    {
     "data": {
      "text/plain": [
       "False"
      ]
     },
     "execution_count": 18,
     "metadata": {},
     "output_type": "execute_result"
    }
   ],
   "source": [
    "# grater or equal(>=)\n",
    "a= 5\n",
    "b= 10\n",
    "a>=b"
   ]
  },
  {
   "cell_type": "code",
   "execution_count": 17,
   "id": "8607ad9d",
   "metadata": {},
   "outputs": [
    {
     "data": {
      "text/plain": [
       "True"
      ]
     },
     "execution_count": 17,
     "metadata": {},
     "output_type": "execute_result"
    }
   ],
   "source": [
    "# lesser than(<)\n",
    "a= 5\n",
    "b= 10\n",
    "a<b"
   ]
  },
  {
   "cell_type": "code",
   "execution_count": 19,
   "id": "0ebbe27f",
   "metadata": {},
   "outputs": [
    {
     "data": {
      "text/plain": [
       "True"
      ]
     },
     "execution_count": 19,
     "metadata": {},
     "output_type": "execute_result"
    }
   ],
   "source": [
    "# lesser or equal to(<=)\n",
    "a= 5\n",
    "b= 10\n",
    "a<=b"
   ]
  },
  {
   "cell_type": "code",
   "execution_count": 20,
   "id": "12574e53",
   "metadata": {},
   "outputs": [
    {
     "data": {
      "text/plain": [
       "True"
      ]
     },
     "execution_count": 20,
     "metadata": {},
     "output_type": "execute_result"
    }
   ],
   "source": [
    "# equal equal to(==)\n",
    "a= 10\n",
    "b= 10\n",
    "a==b"
   ]
  },
  {
   "cell_type": "markdown",
   "id": "3b6ea6f8",
   "metadata": {},
   "source": [
    "## assignment"
   ]
  },
  {
   "cell_type": "code",
   "execution_count": null,
   "id": "5286d29c",
   "metadata": {},
   "outputs": [],
   "source": [
    "name = \"olaitan\""
   ]
  },
  {
   "cell_type": "code",
   "execution_count": 21,
   "id": "a4e38481",
   "metadata": {},
   "outputs": [
    {
     "name": "stdout",
     "output_type": "stream",
     "text": [
      "8\n"
     ]
    }
   ],
   "source": [
    "# increament(+=)\n",
    "a= 7\n",
    "a+=1 # increase the variable by one \n",
    "print(a)"
   ]
  },
  {
   "cell_type": "code",
   "execution_count": 22,
   "id": "8ce74cb4",
   "metadata": {},
   "outputs": [
    {
     "name": "stdout",
     "output_type": "stream",
     "text": [
      "6\n"
     ]
    }
   ],
   "source": [
    "# decreament(-=)\n",
    "a= 7\n",
    "a-=1 # decrease the variable by one \n",
    "print(a)"
   ]
  },
  {
   "cell_type": "code",
   "execution_count": 23,
   "id": "833617cf",
   "metadata": {},
   "outputs": [
    {
     "name": "stdout",
     "output_type": "stream",
     "text": [
      "14\n"
     ]
    }
   ],
   "source": [
    "# multiple(*=)\n",
    "a= 7\n",
    "a*=2 # multiply the variable \n",
    "print(a)"
   ]
  },
  {
   "cell_type": "markdown",
   "id": "d7f78758",
   "metadata": {},
   "source": [
    "## membership\n",
    "is used to check if a value in a member of sequence. (in,not in )is return a boolean result\n"
   ]
  },
  {
   "cell_type": "code",
   "execution_count": 24,
   "id": "be027bf7",
   "metadata": {},
   "outputs": [
    {
     "name": "stdout",
     "output_type": "stream",
     "text": [
      "True\n"
     ]
    }
   ],
   "source": [
    "name = \"olaitan\"\n",
    "print(\"o\"in name)"
   ]
  },
  {
   "cell_type": "code",
   "execution_count": 25,
   "id": "7129e055",
   "metadata": {},
   "outputs": [
    {
     "name": "stdout",
     "output_type": "stream",
     "text": [
      "True\n"
     ]
    }
   ],
   "source": [
    "name = \"olaitan\"\n",
    "print(\"O\"not in name)"
   ]
  },
  {
   "cell_type": "markdown",
   "id": "a8de6dce",
   "metadata": {},
   "source": [
    "## identity \n",
    "is used to compare the memory location of two object (is,is not) the return is boolean"
   ]
  },
  {
   "cell_type": "code",
   "execution_count": null,
   "id": "8b00aae3",
   "metadata": {},
   "outputs": [],
   "source": [
    "# identity...\n",
    "is, is not"
   ]
  },
  {
   "cell_type": "code",
   "execution_count": 1,
   "id": "d2396631",
   "metadata": {},
   "outputs": [],
   "source": [
    "a= [1,2,3]\n",
    "b=a\n",
    "c=[1,2,3]"
   ]
  },
  {
   "cell_type": "code",
   "execution_count": 2,
   "id": "7c0da9a3",
   "metadata": {},
   "outputs": [
    {
     "data": {
      "text/plain": [
       "True"
      ]
     },
     "execution_count": 2,
     "metadata": {},
     "output_type": "execute_result"
    }
   ],
   "source": [
    "a is b"
   ]
  },
  {
   "cell_type": "code",
   "execution_count": 27,
   "id": "ea2fe061",
   "metadata": {},
   "outputs": [
    {
     "data": {
      "text/plain": [
       "True"
      ]
     },
     "execution_count": 27,
     "metadata": {},
     "output_type": "execute_result"
    }
   ],
   "source": [
    "a is not c"
   ]
  },
  {
   "cell_type": "code",
   "execution_count": 3,
   "id": "937b3f19",
   "metadata": {},
   "outputs": [
    {
     "data": {
      "text/plain": [
       "False"
      ]
     },
     "execution_count": 3,
     "metadata": {},
     "output_type": "execute_result"
    }
   ],
   "source": [
    "a is not b"
   ]
  },
  {
   "cell_type": "markdown",
   "id": "e882dd77",
   "metadata": {},
   "source": [
    "## Logical\n",
    "They are used on conditional statements such as:\n",
    "- and = checks two or more condition if true\n",
    "- or = checks if atleast one condition is true\n",
    "- not = true if condition is false, and vise versa\n",
    "\n"
   ]
  },
  {
   "cell_type": "markdown",
   "id": "70952331",
   "metadata": {},
   "source": [
    "## and \n"
   ]
  },
  {
   "cell_type": "code",
   "execution_count": 5,
   "id": "31cd9933",
   "metadata": {},
   "outputs": [
    {
     "name": "stdout",
     "output_type": "stream",
     "text": [
      "the temperature is good\n"
     ]
    }
   ],
   "source": [
    "temp = 25\n",
    "if temp > 0 and temp < 30:\n",
    "   print(\"the temperature is good\")\n",
    "else:\n",
    "    print(\"the temperature is bad\")"
   ]
  },
  {
   "cell_type": "markdown",
   "id": "f69ff50b",
   "metadata": {},
   "source": [
    "# or"
   ]
  },
  {
   "cell_type": "code",
   "execution_count": 6,
   "id": "6fa799b0",
   "metadata": {},
   "outputs": [
    {
     "name": "stdout",
     "output_type": "stream",
     "text": [
      "the temperature is good\n"
     ]
    }
   ],
   "source": [
    "temp = 25\n",
    "if temp > 0 or temp < 30:\n",
    "   print(\"the temperature is good\")\n",
    "else:\n",
    "    print(\"the temperature is bad\")"
   ]
  },
  {
   "cell_type": "markdown",
   "id": "ff99c1b7",
   "metadata": {},
   "source": [
    "# not "
   ]
  },
  {
   "cell_type": "code",
   "execution_count": 8,
   "id": "538655df",
   "metadata": {},
   "outputs": [
    {
     "name": "stdout",
     "output_type": "stream",
     "text": [
      "it is sunny outside\n"
     ]
    }
   ],
   "source": [
    "sunny = True\n",
    "if sunny :\n",
    "  print(\"it is sunny outside\")\n",
    "else:\n",
    "    print(\"it is cloudy outside\")"
   ]
  },
  {
   "cell_type": "code",
   "execution_count": 9,
   "id": "82327405",
   "metadata": {},
   "outputs": [
    {
     "name": "stdout",
     "output_type": "stream",
     "text": [
      "it is cloudy outside\n"
     ]
    }
   ],
   "source": [
    "sunny = True\n",
    "if not sunny :\n",
    "  print(\"it is sunny outside\")\n",
    "else:\n",
    "    print(\"it is cloudy outside\")"
   ]
  },
  {
   "cell_type": "markdown",
   "id": "474c9bae",
   "metadata": {},
   "source": [
    "# bitwise"
   ]
  },
  {
   "cell_type": "code",
   "execution_count": null,
   "id": "df03ae15",
   "metadata": {},
   "outputs": [],
   "source": []
  },
  {
   "cell_type": "markdown",
   "id": "bfeefd8c",
   "metadata": {},
   "source": [
    "# data type in python\n",
    "\n",
    "1. number\n",
    "- int\n",
    "- float\n",
    "- complex\n",
    "\n",
    "2. Text\n",
    "- str- sequence data type\n",
    "3. collection\n",
    "- list- sequence data type\n",
    "- tuple- sequence data type\n",
    "- set\n",
    "- dictionary\n",
    "\n",
    "in python datatype can be mutable and immutable type\n",
    "\n",
    "### mutable data type are data that can be modify after declaration(list, dictionary, set)\n",
    "### immutable data type are data that can not be modify after declaration ( number, tuple, str)\n",
    "\n",
    "#### data type checking\n",
    "type is used to check data type\n",
    "\n",
    "\n",
    "# data conversion\n",
    "1. float -- convert data to float type\n",
    "2. int -- convert data to int type\n",
    "3. tuple -- convert data to tuple type\n",
    "4. list -- convert data to list type\n",
    "5. dic -- convert data to dictionary\n",
    "6. str -- convert data to text"
   ]
  },
  {
   "cell_type": "markdown",
   "id": "11f06aa4",
   "metadata": {},
   "source": [
    "## number "
   ]
  },
  {
   "cell_type": "code",
   "execution_count": 10,
   "id": "e8ccbf95",
   "metadata": {},
   "outputs": [],
   "source": [
    "num1 = 12 # int\n",
    "num3 = -13 # int\n",
    "num2 = 12.6 # float\n",
    "num4 = 4+ 7j # complex"
   ]
  },
  {
   "cell_type": "code",
   "execution_count": 11,
   "id": "c99753a6",
   "metadata": {},
   "outputs": [
    {
     "data": {
      "text/plain": [
       "int"
      ]
     },
     "execution_count": 11,
     "metadata": {},
     "output_type": "execute_result"
    }
   ],
   "source": [
    "type (num1)"
   ]
  },
  {
   "cell_type": "markdown",
   "id": "82f6f99d",
   "metadata": {},
   "source": [
    "## string"
   ]
  },
  {
   "cell_type": "code",
   "execution_count": 13,
   "id": "288e98a8",
   "metadata": {},
   "outputs": [],
   "source": [
    "str1 = \"olaitan\"\n",
    "str2 = 'olaitan'\n",
    "long_text = \"\"\"if the text is long\n",
    "          and need to come to the next line\"\"\""
   ]
  },
  {
   "cell_type": "markdown",
   "id": "d7cb116a",
   "metadata": {},
   "source": [
    "### Indexing\n",
    "is the technique used to access single element /character in a sequence datatype at given position\n",
    "### slicing\n",
    "is the technique used to access element/charater in a sequence datatype within a range\n",
    "\n",
    "# Note\n",
    "all sequence datatype in python has zero base index"
   ]
  },
  {
   "cell_type": "code",
   "execution_count": 14,
   "id": "a08846bf",
   "metadata": {},
   "outputs": [
    {
     "data": {
      "text/plain": [
       "'f'"
      ]
     },
     "execution_count": 14,
     "metadata": {},
     "output_type": "execute_result"
    }
   ],
   "source": [
    "ola = \"python is fun to learn and very easy\"\n",
    "# return f from the str \n",
    "ola[10] # forward indexing"
   ]
  },
  {
   "cell_type": "code",
   "execution_count": 15,
   "id": "12ef4696",
   "metadata": {},
   "outputs": [
    {
     "data": {
      "text/plain": [
       "'v'"
      ]
     },
     "execution_count": 15,
     "metadata": {},
     "output_type": "execute_result"
    }
   ],
   "source": [
    "# using backward indexing return v\n",
    "ola[-9]"
   ]
  },
  {
   "cell_type": "code",
   "execution_count": 16,
   "id": "676c25d1",
   "metadata": {},
   "outputs": [
    {
     "data": {
      "text/plain": [
       "'l'"
      ]
     },
     "execution_count": 16,
     "metadata": {},
     "output_type": "execute_result"
    }
   ],
   "source": [
    "# using forward indexing return l\n",
    "ola[17]"
   ]
  },
  {
   "cell_type": "code",
   "execution_count": 18,
   "id": "0be1f54b",
   "metadata": {},
   "outputs": [
    {
     "data": {
      "text/plain": [
       "'l'"
      ]
     },
     "execution_count": 18,
     "metadata": {},
     "output_type": "execute_result"
    }
   ],
   "source": [
    "# using backward indexing return l\n",
    "ola[-19]"
   ]
  },
  {
   "cell_type": "markdown",
   "id": "8e8d96d6",
   "metadata": {},
   "source": [
    "### slicing"
   ]
  },
  {
   "cell_type": "markdown",
   "id": "c1c044e9",
   "metadata": {},
   "source": [
    "[start : stop: skip]\n",
    "\n",
    "start with index number then, stop with position number\n",
    "\n",
    "when counting index number you start from zero\n",
    "while you start from 1 when counting position number"
   ]
  },
  {
   "cell_type": "code",
   "execution_count": 19,
   "id": "433720dc",
   "metadata": {},
   "outputs": [
    {
     "data": {
      "text/plain": [
       "'fun to learn'"
      ]
     },
     "execution_count": 19,
     "metadata": {},
     "output_type": "execute_result"
    }
   ],
   "source": [
    "ola = \"python is fun to learn and very easy\"\n",
    "# fun to learn\n",
    "ola[10:22]"
   ]
  },
  {
   "cell_type": "code",
   "execution_count": 20,
   "id": "7ade7853",
   "metadata": {},
   "outputs": [
    {
     "data": {
      "text/plain": [
       "'pto'"
      ]
     },
     "execution_count": 20,
     "metadata": {},
     "output_type": "execute_result"
    }
   ],
   "source": [
    "#pto\n",
    "ola[0:6:2]"
   ]
  },
  {
   "cell_type": "code",
   "execution_count": 24,
   "id": "80991b1c",
   "metadata": {},
   "outputs": [
    {
     "data": {
      "text/plain": [
       "'ivynis'"
      ]
     },
     "execution_count": 24,
     "metadata": {},
     "output_type": "execute_result"
    }
   ],
   "source": [
    "name = \"i love python. kisses\"\n",
    "#ivynis\n",
    "name[0:21:4]"
   ]
  },
  {
   "cell_type": "code",
   "execution_count": 25,
   "id": "91015fcd",
   "metadata": {},
   "outputs": [
    {
     "data": {
      "text/plain": [
       "'ove python. kisses'"
      ]
     },
     "execution_count": 25,
     "metadata": {},
     "output_type": "execute_result"
    }
   ],
   "source": [
    "# extracting character from index 3 to the rest of the character\n",
    "name[3:]"
   ]
  },
  {
   "cell_type": "markdown",
   "id": "cb88b0d7",
   "metadata": {},
   "source": [
    "# str method \n",
    "method is function that is unique to a certain data type it is used to manipulate data type.\n",
    "\n",
    "1. upper\n",
    "2. lower\n",
    "3. strip\n",
    "4. replace\n",
    "5. find\n",
    "6. endswith\n",
    "7. startswith\n",
    "8. format"
   ]
  },
  {
   "cell_type": "code",
   "execution_count": 28,
   "id": "845b809a",
   "metadata": {},
   "outputs": [
    {
     "data": {
      "text/plain": [
       "'I LOVE PYTHON. KISSES'"
      ]
     },
     "execution_count": 28,
     "metadata": {},
     "output_type": "execute_result"
    }
   ],
   "source": [
    "name = \"i love python. kisses\"\n",
    "# upper: used to change the str to upper case\n",
    "ola= name.upper()\n",
    "ola"
   ]
  },
  {
   "cell_type": "code",
   "execution_count": 29,
   "id": "6b396e5d",
   "metadata": {},
   "outputs": [
    {
     "data": {
      "text/plain": [
       "'i love python. kisses'"
      ]
     },
     "execution_count": 29,
     "metadata": {},
     "output_type": "execute_result"
    }
   ],
   "source": [
    "# lower is used to convert str to lower case\n",
    "ola.lower()"
   ]
  },
  {
   "cell_type": "code",
   "execution_count": 31,
   "id": "53e2f119",
   "metadata": {},
   "outputs": [
    {
     "data": {
      "text/plain": [
       "'olaitan'"
      ]
     },
     "execution_count": 31,
     "metadata": {},
     "output_type": "execute_result"
    }
   ],
   "source": [
    "# strip : used to remove excessive space or specified character before and after a str\n",
    "name = \"   olaitan   \"\n",
    "name.strip()"
   ]
  },
  {
   "cell_type": "code",
   "execution_count": 32,
   "id": "76df4f00",
   "metadata": {},
   "outputs": [
    {
     "data": {
      "text/plain": [
       "'olaitan'"
      ]
     },
     "execution_count": 32,
     "metadata": {},
     "output_type": "execute_result"
    }
   ],
   "source": [
    "name = \"===<<<olaitan???///\"\n",
    "name.strip(\"=\").strip(\"<\").strip(\"/\").strip(\"?\")"
   ]
  },
  {
   "cell_type": "code",
   "execution_count": 33,
   "id": "b37a2e35",
   "metadata": {},
   "outputs": [
    {
     "data": {
      "text/plain": [
       "['i', 'love', 'python.', 'kisses']"
      ]
     },
     "execution_count": 33,
     "metadata": {},
     "output_type": "execute_result"
    }
   ],
   "source": [
    "# split: used to split str at each occurrence of space or specified character,end result produce list datatype\n",
    "name = \"i love python. kisses\"\n",
    "name.split()"
   ]
  },
  {
   "cell_type": "code",
   "execution_count": 34,
   "id": "e5a0dd2b",
   "metadata": {},
   "outputs": [
    {
     "data": {
      "text/plain": [
       "['i', 'love', 'python', '. kisses']"
      ]
     },
     "execution_count": 34,
     "metadata": {},
     "output_type": "execute_result"
    }
   ],
   "source": [
    "# using character to split\n",
    "name = \"i?love?python?. kisses\"\n",
    "name. split(\"?\")"
   ]
  },
  {
   "cell_type": "code",
   "execution_count": 35,
   "id": "89f03ad6",
   "metadata": {},
   "outputs": [
    {
     "data": {
      "text/plain": [
       "'i like python. kisses'"
      ]
     },
     "execution_count": 35,
     "metadata": {},
     "output_type": "execute_result"
    }
   ],
   "source": [
    "# replace: used to replace character in str\n",
    "name=\"i love python. kisses\"\n",
    "name.replace(\"love\",\"like\")"
   ]
  },
  {
   "cell_type": "code",
   "execution_count": 36,
   "id": "42df6f0f",
   "metadata": {},
   "outputs": [
    {
     "data": {
      "text/plain": [
       "7"
      ]
     },
     "execution_count": 36,
     "metadata": {},
     "output_type": "execute_result"
    }
   ],
   "source": [
    "# find: is used to return index number of specified character\n",
    "name= \"i love python. kisses\"\n",
    "name.find(\"p\")"
   ]
  },
  {
   "cell_type": "code",
   "execution_count": 37,
   "id": "3ce232af",
   "metadata": {},
   "outputs": [
    {
     "data": {
      "text/plain": [
       "True"
      ]
     },
     "execution_count": 37,
     "metadata": {},
     "output_type": "execute_result"
    }
   ],
   "source": [
    "# endswith: used to check if a str end with specified character,it return boolean result\n",
    "name.endswith(\"s\")"
   ]
  },
  {
   "cell_type": "code",
   "execution_count": 38,
   "id": "5048c672",
   "metadata": {},
   "outputs": [
    {
     "data": {
      "text/plain": [
       "False"
      ]
     },
     "execution_count": 38,
     "metadata": {},
     "output_type": "execute_result"
    }
   ],
   "source": [
    "name.endswith(\"S\")"
   ]
  },
  {
   "cell_type": "code",
   "execution_count": 40,
   "id": "e3686b7d",
   "metadata": {},
   "outputs": [
    {
     "data": {
      "text/plain": [
       "True"
      ]
     },
     "execution_count": 40,
     "metadata": {},
     "output_type": "execute_result"
    }
   ],
   "source": [
    " #startswith: used to check if a str start with specified character,it return boolean result\n",
    "name.startswith(\"i\")"
   ]
  },
  {
   "cell_type": "code",
   "execution_count": 41,
   "id": "7646029f",
   "metadata": {},
   "outputs": [
    {
     "data": {
      "text/plain": [
       "False"
      ]
     },
     "execution_count": 41,
     "metadata": {},
     "output_type": "execute_result"
    }
   ],
   "source": [
    "name.startswith(\"I\")"
   ]
  },
  {
   "cell_type": "code",
   "execution_count": 2,
   "id": "fd5aef24",
   "metadata": {},
   "outputs": [
    {
     "name": "stdout",
     "output_type": "stream",
     "text": [
      "my name is olaitan kazeem and i am 22 years old\n"
     ]
    }
   ],
   "source": [
    "# format\n",
    "first_name = \"olaitan\"\n",
    "last_name = \"kazeem\"\n",
    "age = 22\n",
    "print(\"my name is\",first_name, last_name, \"and i am\", age, \"years old\")"
   ]
  },
  {
   "cell_type": "code",
   "execution_count": 3,
   "id": "366bf7f2",
   "metadata": {},
   "outputs": [
    {
     "name": "stdout",
     "output_type": "stream",
     "text": [
      "my name is olaitan kazeem and i am 22 years old\n"
     ]
    }
   ],
   "source": [
    "print(\"my name is {} {} and i am {} years old\".format(first_name,last_name, age))"
   ]
  },
  {
   "cell_type": "code",
   "execution_count": 4,
   "id": "500ddb37",
   "metadata": {},
   "outputs": [
    {
     "name": "stdout",
     "output_type": "stream",
     "text": [
      "my name is olaitan kazeem and i am 22 years old\n"
     ]
    }
   ],
   "source": [
    "print(f\"my name is {first_name} {last_name} and i am {age} years old\")"
   ]
  },
  {
   "cell_type": "code",
   "execution_count": null,
   "id": "04200e53",
   "metadata": {},
   "outputs": [],
   "source": [
    "lis1 = [] # empty list"
   ]
  },
  {
   "cell_type": "code",
   "execution_count": 47,
   "id": "a81560e0",
   "metadata": {},
   "outputs": [],
   "source": [
    "list1 = [\"goat\", 55, 59.6, \"elephant\",\"cow\",[\"olaitan\",\"james\", \"sancho\"]]\n",
    "# return elephant"
   ]
  },
  {
   "cell_type": "code",
   "execution_count": 50,
   "id": "e0592a32",
   "metadata": {},
   "outputs": [
    {
     "data": {
      "text/plain": [
       "'elephant'"
      ]
     },
     "execution_count": 50,
     "metadata": {},
     "output_type": "execute_result"
    }
   ],
   "source": [
    "list1[3]"
   ]
  },
  {
   "cell_type": "code",
   "execution_count": 52,
   "id": "c205b05d",
   "metadata": {},
   "outputs": [
    {
     "data": {
      "text/plain": [
       "[59.6, 'elephant', 'cow']"
      ]
     },
     "execution_count": 52,
     "metadata": {},
     "output_type": "execute_result"
    }
   ],
   "source": [
    "# return 59.6,elephant,cow\n",
    "list1[2:5]"
   ]
  },
  {
   "cell_type": "code",
   "execution_count": 53,
   "id": "daafc120",
   "metadata": {},
   "outputs": [
    {
     "data": {
      "text/plain": [
       "['goat', 55, 59.6, 'lion', 'cow', ['olaitan', 'james', 'sancho']]"
      ]
     },
     "execution_count": 53,
     "metadata": {},
     "output_type": "execute_result"
    }
   ],
   "source": [
    "# prove to show that list is a mutable datatype\n",
    "list1[3]= \"lion\"\n",
    "list1"
   ]
  },
  {
   "cell_type": "markdown",
   "id": "8c04fab5",
   "metadata": {},
   "source": [
    "## method of list \n",
    "1. append \n",
    "2. insert\n",
    "3. pop\n",
    "4. join\n",
    "5. extend\n",
    "6. remove"
   ]
  },
  {
   "cell_type": "code",
   "execution_count": 54,
   "id": "d7441bc1",
   "metadata": {},
   "outputs": [
    {
     "name": "stdout",
     "output_type": "stream",
     "text": [
      "list before adding new element\n",
      " [2, 7, 8]\n",
      "list after adding new element\n",
      " [2, 7, 8, 'cow']\n"
     ]
    }
   ],
   "source": [
    "# append : used to add new at the list\n",
    "lis3 = [2,7,8]\n",
    "print(\"list before adding new element\\n\", lis3)\n",
    "#add \"cow\" element at the end of the list above\n",
    "lis3.append(\"cow\")\n",
    "print (\"list after adding new element\\n\", lis3)"
   ]
  },
  {
   "cell_type": "code",
   "execution_count": 55,
   "id": "51826241",
   "metadata": {},
   "outputs": [
    {
     "name": "stdout",
     "output_type": "stream",
     "text": [
      "list before adding new element\n",
      " [2, 7, 8]\n",
      "list after adding new element\n",
      " [2, 'cow', 7, 8]\n"
     ]
    }
   ],
   "source": [
    "# insert : used to add new at the specified index number\n",
    "lis3 = [2,7,8]\n",
    "print(\"list before adding new element\\n\", lis3)\n",
    "#add \"cow\" element at the end of the list above\n",
    "lis3.insert(1,\"cow\")\n",
    "print (\"list after adding new element\\n\", lis3)"
   ]
  },
  {
   "cell_type": "code",
   "execution_count": 57,
   "id": "ce6bbdf8",
   "metadata": {},
   "outputs": [
    {
     "name": "stdout",
     "output_type": "stream",
     "text": [
      "list before popping [2, 7, 8]\n",
      "the removed element is  7\n",
      "list after popping  [2, 8]\n"
     ]
    }
   ],
   "source": [
    "# pop : used to remove element from the list and withhold\n",
    "lis3= [2,7,8]\n",
    "print(\"list before popping\", lis3)\n",
    "y= lis3.pop(1) # remove element at index one \n",
    "print(\"the removed element is \", y)\n",
    "print(\"list after popping \",lis3)"
   ]
  },
  {
   "cell_type": "code",
   "execution_count": 59,
   "id": "3a7c1996",
   "metadata": {},
   "outputs": [
    {
     "name": "stdout",
     "output_type": "stream",
     "text": [
      "list before popping [2, 7, 8, 'ola']\n",
      "list after popping  [2, 7, 8]\n"
     ]
    }
   ],
   "source": [
    "# pop : used to delete element by name\n",
    "lis3= [2,7,8,\"ola\"]\n",
    "print(\"list before popping\", lis3)\n",
    "y= lis3.remove(\"ola\") \n",
    "print(\"list after popping \",lis3)"
   ]
  },
  {
   "cell_type": "code",
   "execution_count": 60,
   "id": "041599c2",
   "metadata": {},
   "outputs": [
    {
     "data": {
      "text/plain": [
       "'i love python'"
      ]
     },
     "execution_count": 60,
     "metadata": {},
     "output_type": "execute_result"
    }
   ],
   "source": [
    "# join : used to join element of list, it return str as a result\n",
    "n= [\"i\",\"love\", \"python\"]\n",
    "\" \".join(n)"
   ]
  },
  {
   "cell_type": "code",
   "execution_count": 61,
   "id": "c04ce405",
   "metadata": {},
   "outputs": [
    {
     "data": {
      "text/plain": [
       "['john', 'osimhen', 'james', 'cow', 'dog', 'lion']"
      ]
     },
     "execution_count": 61,
     "metadata": {},
     "output_type": "execute_result"
    }
   ],
   "source": [
    "# extend : use to add element of a list to another\n",
    "li1= [\"cow\", \"dog\", \"lion\"]\n",
    "li2= [\"john\", \"osimhen\", \"james\"]\n",
    "li2. extend(li1)\n",
    "li2"
   ]
  },
  {
   "cell_type": "code",
   "execution_count": 62,
   "id": "09c9726a",
   "metadata": {},
   "outputs": [],
   "source": [
    "ola= [\"cow\", \"dog\", \"lion\",[\"john\", \"osimhen\", \"james\"]]\n",
    "# from the list above, change osimhen to fernandez"
   ]
  },
  {
   "cell_type": "code",
   "execution_count": 66,
   "id": "84b678c5",
   "metadata": {},
   "outputs": [
    {
     "data": {
      "text/plain": [
       "['cow', 'dog', 'lion', ['john', 'fernandez', 'james']]"
      ]
     },
     "execution_count": 66,
     "metadata": {},
     "output_type": "execute_result"
    }
   ],
   "source": [
    "ola[3][1]= \"fernandez\"\n",
    "ola\n"
   ]
  },
  {
   "cell_type": "code",
   "execution_count": null,
   "id": "8579645e",
   "metadata": {},
   "outputs": [],
   "source": [
    "tup = ()# empty tuple\n",
    "tup1= (2,7,0,[\"john\",\"fernandez\",\"james\"])"
   ]
  },
  {
   "cell_type": "code",
   "execution_count": 67,
   "id": "c0c0dc7b",
   "metadata": {},
   "outputs": [
    {
     "data": {
      "text/plain": [
       "{0, 2, 5, 8}"
      ]
     },
     "execution_count": 67,
     "metadata": {},
     "output_type": "execute_result"
    }
   ],
   "source": [
    "set={} # no order at which element is arrange and it is a mutable(it can be modified) datatype.it does not accept duplicate element\n",
    "set1= {2,5,8,0,2,2,2}\n",
    "set1"
   ]
  },
  {
   "cell_type": "code",
   "execution_count": 68,
   "id": "bb2e0c0e",
   "metadata": {},
   "outputs": [
    {
     "data": {
      "text/plain": [
       "{0, 2, 5, 8, 'cow'}"
      ]
     },
     "execution_count": 68,
     "metadata": {},
     "output_type": "execute_result"
    }
   ],
   "source": [
    "set1.add(\"cow\")\n",
    "set1"
   ]
  },
  {
   "cell_type": "code",
   "execution_count": 70,
   "id": "12eed0fc",
   "metadata": {},
   "outputs": [
    {
     "data": {
      "text/plain": [
       "272636"
      ]
     },
     "execution_count": 70,
     "metadata": {},
     "output_type": "execute_result"
    }
   ],
   "source": [
    "# dictionary is a mapping datatype. it has a key and value pair relationship\n",
    "dic={\"name\":\"olaitan\", \"salary\":272636, \"age\":22}\n",
    "dic[\"salary\"]"
   ]
  },
  {
   "cell_type": "code",
   "execution_count": 71,
   "id": "edaad9f5",
   "metadata": {},
   "outputs": [
    {
     "data": {
      "text/plain": [
       "{'name': 'olaitan', 'salary': 272636, 'age': 22, 'address': 'olowoira'}"
      ]
     },
     "execution_count": 71,
     "metadata": {},
     "output_type": "execute_result"
    }
   ],
   "source": [
    "# adding new element to the dictionary\n",
    "dic[\"address\"]= \"olowoira\"\n",
    "dic"
   ]
  },
  {
   "cell_type": "code",
   "execution_count": 72,
   "id": "b5fb06cf",
   "metadata": {},
   "outputs": [
    {
     "data": {
      "text/plain": [
       "{'name': ['merit', 'adeyinka', 'dickson'],\n",
       " 'salary': [2736, 727226, 927827],\n",
       " 22: [99, 23, 12],\n",
       " 'address': ['sabisa', 'america', 'canada']}"
      ]
     },
     "execution_count": 72,
     "metadata": {},
     "output_type": "execute_result"
    }
   ],
   "source": [
    "# dic of a list \n",
    "\n",
    "ola= {\"name\":[\"merit\",\"adeyinka\",\"dickson\"], \"salary\":[2736,727226,927827], age:[99,23,12],\n",
    "      \"address\":[\"sabisa\", \"america\",\"canada\"]}\n",
    "ola"
   ]
  },
  {
   "cell_type": "code",
   "execution_count": 73,
   "id": "df63fa4f",
   "metadata": {},
   "outputs": [
    {
     "data": {
      "text/plain": [
       "{'name': ['merit', 'adeyinka', 'dickson'],\n",
       " 'salary': [2736, 727226, 927827],\n",
       " 22: [99, 23, 12],\n",
       " 'address': ['sabisa', 'america', 'canada'],\n",
       " 'height': [3.5, 4.3, 5.5]}"
      ]
     },
     "execution_count": 73,
     "metadata": {},
     "output_type": "execute_result"
    }
   ],
   "source": [
    "ola[\"height\"]=[3.5,4.3,5.5]\n",
    "ola"
   ]
  },
  {
   "cell_type": "markdown",
   "id": "9acc2ce8",
   "metadata": {},
   "source": [
    "# control flow in python\n",
    "is the order at which python codes is been executed and the code is been executed line by line.ie top to bottom\n",
    "1. conditional statement\n",
    "   - if \n",
    "   - else\n",
    "   - elif\n",
    " 2. loop statement\n",
    "   - for \n",
    "   - while\n",
    " 3. control loop statement\n",
    "   - break\n",
    "   - continue\n",
    " 4. error handling statement\n",
    "   - try\n",
    "   - except\n",
    "   - finally\n",
    "   \n"
   ]
  },
  {
   "cell_type": "markdown",
   "id": "95a92a10",
   "metadata": {},
   "source": [
    "# if "
   ]
  },
  {
   "cell_type": "code",
   "execution_count": 5,
   "id": "dc73f37b",
   "metadata": {},
   "outputs": [
    {
     "name": "stdout",
     "output_type": "stream",
     "text": [
      "we are all nigerians\n",
      "you are seeing this result because condition of if is true 15\n"
     ]
    }
   ],
   "source": [
    "a=5\n",
    "if a>2:\n",
    "    print(\"we are all nigerians\")\n",
    "    w=6\n",
    "    y=9\n",
    "    total= w+y\n",
    "    print(f\"you are seeing this result because condition of if is true {total}\")"
   ]
  },
  {
   "cell_type": "markdown",
   "id": "0c7ef88b",
   "metadata": {},
   "source": [
    "# else"
   ]
  },
  {
   "cell_type": "code",
   "execution_count": 9,
   "id": "4cc401a7",
   "metadata": {},
   "outputs": [
    {
     "name": "stdout",
     "output_type": "stream",
     "text": [
      "the condition is not met, so else block is running\n"
     ]
    }
   ],
   "source": [
    "a=5\n",
    "if a<2:\n",
    "    print(\"we are all nigerians\")\n",
    "    w=6\n",
    "    y=9\n",
    "    total= w+y\n",
    "    print(f\"you are seeing this result because condition of if is true {total}\")\n",
    "else:\n",
    "    print(\"the condition is not met, so else block is running\")"
   ]
  },
  {
   "cell_type": "code",
   "execution_count": 10,
   "id": "00da20a5",
   "metadata": {},
   "outputs": [
    {
     "name": "stdout",
     "output_type": "stream",
     "text": [
      "we are inside the else block\n"
     ]
    }
   ],
   "source": [
    "# if, elif and else illustration\n",
    "a= 1\n",
    "b=1\n",
    "c=1\n",
    "if (a>b) and (c<b):\n",
    "    print (\"we are inside if block\")\n",
    "elif (a<b) and (a<c):\n",
    "    print(\"we are inside the first block \")\n",
    "elif (a<b) and (b>a):\n",
    "    print(\"we are inside the second block\")\n",
    "else:\n",
    "    print(\"we are inside the else block\")"
   ]
  },
  {
   "cell_type": "code",
   "execution_count": 11,
   "id": "1827065d",
   "metadata": {},
   "outputs": [
    {
     "name": "stdout",
     "output_type": "stream",
     "text": [
      "we are inside if block\n",
      "we are inside the first block \n",
      "we are inside the second block\n"
     ]
    }
   ],
   "source": [
    "a= 0\n",
    "b=1\n",
    "c=1\n",
    "if (a<b) | (c<b):\n",
    "    print (\"we are inside if block\")\n",
    "if (a<b) | (a<c):\n",
    "    print(\"we are inside the first block \")\n",
    "if (a<b) | (b>a):\n",
    "    print(\"we are inside the second block\")\n",
    "else:\n",
    "    print(\"we are inside the else block\")"
   ]
  },
  {
   "cell_type": "markdown",
   "id": "daf2e382",
   "metadata": {},
   "source": [
    "# nested if "
   ]
  },
  {
   "cell_type": "code",
   "execution_count": 17,
   "id": "131ecf30",
   "metadata": {},
   "outputs": [
    {
     "name": "stdout",
     "output_type": "stream",
     "text": [
      "please your age to know if you are eligible to drive19\n",
      "have you attend a driving school?yes\n",
      "do you have a driving license?yes\n",
      "congratulations you can drive this car\n"
     ]
    }
   ],
   "source": [
    "age= int(input(\"please your age to know if you are eligible to drive\"))\n",
    "if age>= 18:\n",
    "    school= input(\"have you attend a driving school?\").lower()\n",
    "    if school== \"yes\":\n",
    "        license= input(\"do you have a driving license?\").lower()\n",
    "        if license == \"yes\":\n",
    "            print(\"congratulations you can drive this car\")\n",
    "        else :\n",
    "             print(\"go and get your driving licence\")\n",
    "    else: \n",
    "            print(\"you may need to attend one \")\n",
    "else:\n",
    "    print(\"please come back when you are 18\")"
   ]
  },
  {
   "cell_type": "markdown",
   "id": "5ec6156e",
   "metadata": {},
   "source": [
    "# loop statement\n",
    "loop statement is used to automate how we access data"
   ]
  },
  {
   "cell_type": "markdown",
   "id": "bf431568",
   "metadata": {},
   "source": [
    "### for loop is used to iterate from the begining of the element to the end "
   ]
  },
  {
   "cell_type": "code",
   "execution_count": 20,
   "id": "cb6bb5c3",
   "metadata": {},
   "outputs": [
    {
     "name": "stdout",
     "output_type": "stream",
     "text": [
      "goat\n",
      "cat\n",
      "dog\n",
      "chicken\n",
      "turkey\n"
     ]
    }
   ],
   "source": [
    "# for loop\n",
    "domestic_animals = [\"goat\",\"cat\",\"dog\", \"chicken\",\"turkey\"]\n",
    "for animal in domestic_animals:\n",
    "    print(animal)"
   ]
  },
  {
   "cell_type": "code",
   "execution_count": 21,
   "id": "7df2fe72",
   "metadata": {},
   "outputs": [
    {
     "name": "stdout",
     "output_type": "stream",
     "text": [
      "the length of goat is greater than three\n",
      "the length of cat is equal to three\n",
      "the length of dog is equal to three\n",
      "the length of chicken is greater than three\n",
      "the length of turkey is greater than three\n"
     ]
    }
   ],
   "source": [
    "domestic_animals = [\"goat\",\"cat\",\"dog\", \"chicken\",\"turkey\"]\n",
    "for animal in domestic_animals:\n",
    "    if len(animal)==3:\n",
    "           print(f\"the length of {animal} is equal to three\")\n",
    "    else:\n",
    "        print(f\"the length of {animal} is greater than three\")"
   ]
  },
  {
   "cell_type": "markdown",
   "id": "cda07bfd",
   "metadata": {},
   "source": [
    "#### range is used to generate sequence of integer\n",
    "range(start, stop,step)"
   ]
  },
  {
   "cell_type": "code",
   "execution_count": 23,
   "id": "5b04f4ac",
   "metadata": {},
   "outputs": [
    {
     "name": "stdout",
     "output_type": "stream",
     "text": [
      "0\n",
      "2\n",
      "4\n",
      "6\n",
      "8\n"
     ]
    }
   ],
   "source": [
    "for i in range(0,10,2):\n",
    "    print(i)"
   ]
  },
  {
   "cell_type": "code",
   "execution_count": 25,
   "id": "57b3c31c",
   "metadata": {},
   "outputs": [
    {
     "name": "stdout",
     "output_type": "stream",
     "text": [
      "the even list is [0, 2, 4, 6, 8, 10, 12, 14, 16, 18, 20]\n",
      "the odd list is [1, 3, 5, 7, 9, 11, 13, 15, 17, 19]\n"
     ]
    }
   ],
   "source": [
    "numbers = range(0,21)\n",
    "even_list= []\n",
    "odd_list= []\n",
    "for i in numbers:\n",
    "    if i%2==0:\n",
    "        even_list.append(i)\n",
    "    else: \n",
    "        odd_list.append(i)\n",
    "print(f\"the even list is {even_list}\")\n",
    "print(f\"the odd list is {odd_list}\")"
   ]
  },
  {
   "cell_type": "markdown",
   "id": "fee060d0",
   "metadata": {},
   "source": [
    "## while loop is used to iterate over a process"
   ]
  },
  {
   "cell_type": "code",
   "execution_count": 29,
   "id": "3700dceb",
   "metadata": {},
   "outputs": [
    {
     "name": "stdout",
     "output_type": "stream",
     "text": [
      "i am a good man while shade is a bad woman at counter 0\n",
      "i am a good man while shade is a bad woman at counter 1\n",
      "i am a good man while shade is a bad woman at counter 2\n",
      "i am a good man while shade is a bad woman at counter 3\n",
      "i am a good man while shade is a bad woman at counter 4\n",
      "i am a good man while shade is a bad woman at counter 5\n",
      "i am a good man while shade is a bad woman at counter 6\n",
      "i am a good man while shade is a bad woman at counter 7\n",
      "i am a good man while shade is a bad woman at counter 8\n",
      "i am a good man while shade is a bad woman at counter 9\n",
      "i am a good man while shade is a bad woman at counter 10\n"
     ]
    }
   ],
   "source": [
    "counter= 0\n",
    "while counter <=10 :\n",
    "    print(f\"i am a good man while shade is a bad woman at counter {counter}\")\n",
    "    counter +=1 "
   ]
  },
  {
   "cell_type": "code",
   "execution_count": 1,
   "id": "3741daa2",
   "metadata": {},
   "outputs": [
    {
     "name": "stdout",
     "output_type": "stream",
     "text": [
      "enter a guess number to win a car3\n",
      "enter a guess number to win a car3\n",
      "enter a guess number to win a car3\n",
      "try again!!!\n"
     ]
    }
   ],
   "source": [
    "secret_number = 4\n",
    "no_of_attempt = 0\n",
    "limit_time = 2\n",
    "while no_of_attempt <= limit_time:\n",
    "    guess = int(input(\"enter a guess number to win a car\"))\n",
    "    no_of_attempt+=1\n",
    "    if guess== secret_number:\n",
    "        print(\"bingo!!! you just won yourself a car\")\n",
    "        break\n",
    "else: print(\"try again!!!\")"
   ]
  },
  {
   "cell_type": "code",
   "execution_count": 37,
   "id": "a5ef4d99",
   "metadata": {},
   "outputs": [
    {
     "name": "stdout",
     "output_type": "stream",
     "text": [
      "enter a guess number to win a car2\n",
      "enter a guess number to win a car2\n",
      "enter a guess number to win a car2\n",
      "try again\n"
     ]
    }
   ],
   "source": [
    "secret_number = 4\n",
    "no_of_attempt = 0\n",
    "limit_time = 3\n",
    "while True:\n",
    "    if no_of_attempt == limit_time:\n",
    "        print(\"try again\")\n",
    "        break\n",
    "    no_of_attempt+=1\n",
    "\n",
    "    guess = int(input(\"enter a guess number to win a car\"))\n",
    "    if guess== secret_number:\n",
    "        print(\"bingo!!! you just won yourself a car\")\n",
    "        break\n",
    "\n"
   ]
  },
  {
   "cell_type": "code",
   "execution_count": 2,
   "id": "0f758b90",
   "metadata": {},
   "outputs": [
    {
     "name": "stdout",
     "output_type": "stream",
     "text": [
      "enter a guess number to win a car1\n",
      " your guess number is 1. this is less than the secret number\n",
      "enter a guess number to win a car2\n",
      " your guess number is 2. this is less than the secret number\n",
      "enter a guess number to win a car8\n",
      " your guess number is 8. this is greater than the secret number\n",
      "enter a guess number to win a car4\n",
      "bingo!!! you just won yourself a car\n"
     ]
    }
   ],
   "source": [
    "# secret_number = 100\n",
    "no_of_attempt = 0\n",
    "limit_time = 10\n",
    "secret_number = 4\n",
    "\n",
    "while True:\n",
    "    if no_of_attempt == limit_time:\n",
    "        print(\"try again\")\n",
    "        break\n",
    "    no_of_attempt+=1\n",
    "\n",
    "    guess = int(input(\"enter a guess number to win a car\"))\n",
    "    if guess== secret_number:\n",
    "        print(\"bingo!!! you just won yourself a car\")\n",
    "        break\n",
    "    elif guess < secret_number:\n",
    "        print(f\" your guess number is {guess}. this is less than the secret number\")\n",
    "    elif guess > secret_number:\n",
    "        print(f\" your guess number is {guess}. this is greater than the secret number\")\n"
   ]
  },
  {
   "cell_type": "code",
   "execution_count": 3,
   "id": "f47378e1",
   "metadata": {},
   "outputs": [
    {
     "name": "stdout",
     "output_type": "stream",
     "text": [
      "the even list is [0, 2, 4, 6, 8, 10, 12]\n",
      "the odd list is [1, 3, 5, 7, 9, 11, 13]\n"
     ]
    }
   ],
   "source": [
    "numbers = range(0,21)\n",
    "even_list= []\n",
    "odd_list= []\n",
    "for i in numbers:\n",
    "    if i==14:\n",
    "        break\n",
    "        \n",
    "    if i%2==0:\n",
    "        even_list.append(i)\n",
    "    else: \n",
    "        odd_list.append(i)\n",
    "print(f\"the even list is {even_list}\")\n",
    "print(f\"the odd list is {odd_list}\")"
   ]
  },
  {
   "cell_type": "code",
   "execution_count": 4,
   "id": "9cd8ac33",
   "metadata": {},
   "outputs": [
    {
     "name": "stdout",
     "output_type": "stream",
     "text": [
      "the even list is [0, 2, 4, 6, 8, 10, 12, 16, 18, 20]\n",
      "the odd list is [1, 3, 5, 7, 9, 11, 13, 15, 17, 19]\n"
     ]
    }
   ],
   "source": [
    "numbers = range(0,21)\n",
    "even_list= []\n",
    "odd_list= []\n",
    "for i in numbers:\n",
    "    if i==14:\n",
    "         continue   # skip at this condition alone\n",
    "        \n",
    "    if i%2==0:\n",
    "        even_list.append(i)\n",
    "    else: \n",
    "        odd_list.append(i)\n",
    "print(f\"the even list is {even_list}\")\n",
    "print(f\"the odd list is {odd_list}\")"
   ]
  },
  {
   "cell_type": "markdown",
   "id": "64c2c9d8",
   "metadata": {},
   "source": [
    "## error handling in python"
   ]
  },
  {
   "cell_type": "code",
   "execution_count": 9,
   "id": "ff9c33d5",
   "metadata": {},
   "outputs": [
    {
     "name": "stdout",
     "output_type": "stream",
     "text": [
      "there is an error in your code\n"
     ]
    }
   ],
   "source": [
    "try:\n",
    "    numbers = range(0,21)\n",
    "    even_list= []\n",
    "    odd_list= []\n",
    "    for i in numberss:\n",
    "        if i==14:\n",
    "            break\n",
    "        \n",
    "    if i%2==0:\n",
    "        even_list.append(i)\n",
    "    else: \n",
    "        odd_list.append(i)\n",
    "    print(f\"the even list is {even_list}\")\n",
    "    print(f\"the odd list is {odd_list}\")\n",
    "except:\n",
    "    print(\"there is an error in your code\")"
   ]
  },
  {
   "cell_type": "markdown",
   "id": "3016c90f",
   "metadata": {},
   "source": [
    "## function\n",
    "function is collection of code under a specific name to perform a specific task\n",
    "## types of function\n",
    "parameter function takes in parameter\n",
    "non-parameter function does not take in parameter\n",
    "anonymous function(lambda) a shorthand way of writting function"
   ]
  },
  {
   "cell_type": "code",
   "execution_count": 1,
   "id": "0afbc77e",
   "metadata": {},
   "outputs": [],
   "source": [
    "def age_group():\n",
    "    age = int(input(\"please enter your age to know your age group \"))\n",
    "    if age<=1:\n",
    "        print(f\"the entered age is {age}, therefore, you are an infant\")\n",
    "    elif age>=2 and age<= 4:\n",
    "        print(f\"the entered age is {age}, therefore, you are a toddler\")\n",
    "    elif age>=5 and age<= 12:\n",
    "        print(f\"the entered age is {age}, therefore, you are a child\")\n",
    "    elif age>=13 and age<= 19:\n",
    "        print(f\"the entered age is {age}, therefore, you are a teenager\")\n",
    "    elif age>=20 and age<= 39:\n",
    "        print(f\"the entered age is {age}, therefore, you are a adult\")\n",
    "    elif age>=40 and age<= 59:\n",
    "        print(f\"the entered age is {age}, therefore, you are a middle age\")\n",
    "    else:\n",
    "        print(f\"the entered age is {age}, therefore, you are a senior age\")"
   ]
  },
  {
   "cell_type": "code",
   "execution_count": 2,
   "id": "ef60402b",
   "metadata": {},
   "outputs": [
    {
     "name": "stdout",
     "output_type": "stream",
     "text": [
      "please enter your age to know your age group 13\n",
      "the entered age is 13, therefore, you are a teenager\n"
     ]
    }
   ],
   "source": [
    "age_group()"
   ]
  },
  {
   "cell_type": "code",
   "execution_count": 3,
   "id": "70ad82bc",
   "metadata": {},
   "outputs": [],
   "source": [
    "def add_two(w,t):\n",
    "    total = w+t\n",
    "    return total"
   ]
  },
  {
   "cell_type": "code",
   "execution_count": 4,
   "id": "94d5b2c2",
   "metadata": {},
   "outputs": [
    {
     "data": {
      "text/plain": [
       "15"
      ]
     },
     "execution_count": 4,
     "metadata": {},
     "output_type": "execute_result"
    }
   ],
   "source": [
    "add_two(5,10)"
   ]
  },
  {
   "cell_type": "code",
   "execution_count": 7,
   "id": "78b4e5a5",
   "metadata": {},
   "outputs": [],
   "source": [
    "def triangle(b,h):\n",
    "    total=0.5*b*h\n",
    "    return total"
   ]
  },
  {
   "cell_type": "code",
   "execution_count": 8,
   "id": "ae10dfb8",
   "metadata": {},
   "outputs": [
    {
     "data": {
      "text/plain": [
       "45.0"
      ]
     },
     "execution_count": 8,
     "metadata": {},
     "output_type": "execute_result"
    }
   ],
   "source": [
    "triangle(9,10)"
   ]
  },
  {
   "cell_type": "code",
   "execution_count": 9,
   "id": "0662c12b",
   "metadata": {},
   "outputs": [],
   "source": [
    "y= lambda r : r**2*3.142"
   ]
  },
  {
   "cell_type": "code",
   "execution_count": 10,
   "id": "d7b3fb76",
   "metadata": {},
   "outputs": [
    {
     "data": {
      "text/plain": [
       "78.55"
      ]
     },
     "execution_count": 10,
     "metadata": {},
     "output_type": "execute_result"
    }
   ],
   "source": [
    "y(5)"
   ]
  },
  {
   "cell_type": "code",
   "execution_count": 11,
   "id": "36d9ebf0",
   "metadata": {},
   "outputs": [],
   "source": [
    "sec=lambda m:m*60"
   ]
  },
  {
   "cell_type": "code",
   "execution_count": 12,
   "id": "4240027e",
   "metadata": {},
   "outputs": [
    {
     "data": {
      "text/plain": [
       "300"
      ]
     },
     "execution_count": 12,
     "metadata": {},
     "output_type": "execute_result"
    }
   ],
   "source": [
    "sec(5)"
   ]
  },
  {
   "cell_type": "markdown",
   "id": "270a68f1",
   "metadata": {},
   "source": [
    "## map\n",
    "is used to map a function to an iterable object in order to manipulate the object\n",
    "## filter\n",
    "is used to apply function to an iterable abject in order to filter the object"
   ]
  },
  {
   "cell_type": "code",
   "execution_count": 13,
   "id": "1e2b876f",
   "metadata": {},
   "outputs": [],
   "source": [
    "t=[1,2,3,4,6,9]"
   ]
  },
  {
   "cell_type": "code",
   "execution_count": null,
   "id": "782e0bfc",
   "metadata": {},
   "outputs": [],
   "source": []
  },
  {
   "cell_type": "code",
   "execution_count": null,
   "id": "6df3a447",
   "metadata": {},
   "outputs": [],
   "source": []
  },
  {
   "cell_type": "code",
   "execution_count": null,
   "id": "0bd39dc4",
   "metadata": {},
   "outputs": [],
   "source": []
  },
  {
   "cell_type": "code",
   "execution_count": null,
   "id": "ebe18cdc",
   "metadata": {},
   "outputs": [],
   "source": []
  },
  {
   "cell_type": "code",
   "execution_count": null,
   "id": "3e1e5b08",
   "metadata": {},
   "outputs": [],
   "source": []
  }
 ],
 "metadata": {
  "kernelspec": {
   "display_name": "Python 3 (ipykernel)",
   "language": "python",
   "name": "python3"
  },
  "language_info": {
   "codemirror_mode": {
    "name": "ipython",
    "version": 3
   },
   "file_extension": ".py",
   "mimetype": "text/x-python",
   "name": "python",
   "nbconvert_exporter": "python",
   "pygments_lexer": "ipython3",
   "version": "3.9.13"
  }
 },
 "nbformat": 4,
 "nbformat_minor": 5
}
