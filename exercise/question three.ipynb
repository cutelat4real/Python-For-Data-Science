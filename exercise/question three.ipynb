{
 "cells": [
  {
   "cell_type": "markdown",
   "id": "159317ee",
   "metadata": {},
   "source": [
    "# if statement\n",
    "1. Write a Python if statement that checks if a variable `age` is greater than or equal to 18. If it is, print \"You are an adult\", otherwise, print \"You are a minor\".\n",
    "\n",
    "2. Create a Python if-else statement that checks if a number `num` is positive, negative, or zero. If `num` is positive, print \"Positive number\", if it is negative, print \"Negative number\", and if it is zero, print \"Zero\".\n",
    "\n",
    "3. Write a Python program that asks the user to enter their exam score. then print the corresponding grade according to the following criteria:\n",
    "   - 90 or above: \"A\"\n",
    "   - 80 to 89: \"B\"\n",
    "   - 70 to 79: \"C\"\n",
    "   - 60 to 69: \"D\"\n",
    "   - Below 60: \"F\"\n",
    "\n",
    "4. Create a Python program that checks if a given year `year` is a leap year. If `year` is divisible by 4 and not divisible by 100, or it is divisible by 400, then it is a leap year. Print \"Leap year\" if it is, otherwise, print \"Not a leap year\".\n",
    "\n",
    "5. Write a Python function called `maximum` that takes three arguments: `a`, `b`, and `c`. The function should use if statements to return the maximum value among the three.\n",
    "\n"
   ]
  },
  {
   "cell_type": "code",
   "execution_count": 3,
   "id": "60f5574b",
   "metadata": {},
   "outputs": [
    {
     "name": "stdout",
     "output_type": "stream",
     "text": [
      "please enter your age to know your age group 18\n",
      "the entered age is 18 you are an adult\n"
     ]
    }
   ],
   "source": [
    "\n",
    "    age = int(input(\"please enter your age to know your age group \"))\n",
    "    if age>=18:\n",
    "        print(f\"the entered age is {age} you are an adult\")\n",
    "    \n",
    "    else:\n",
    "        print(f\"the entered age is {age} you are minor\")"
   ]
  },
  {
   "cell_type": "code",
   "execution_count": 12,
   "id": "48fbc182",
   "metadata": {},
   "outputs": [
    {
     "name": "stdout",
     "output_type": "stream",
     "text": [
      "please enter number 0\n",
      "zero\n"
     ]
    }
   ],
   "source": [
    "number = int(input(\"please enter number \"))\n",
    "if number>0:\n",
    "    print(f\"{number} is positive number\")\n",
    "elif number<0:\n",
    "        print(f\"{number} is negative number\")\n",
    "    \n",
    "else:\n",
    "    print(\"zero\")"
   ]
  },
  {
   "cell_type": "markdown",
   "id": "38b65163",
   "metadata": {},
   "source": [
    "Write a Python program that asks the user to enter their exam score. then print the corresponding grade according to the following criteria:\n",
    "\n",
    "90 or above: \"A\"\n",
    "80 to 89: \"B\"\n",
    "70 to 79: \"C\"\n",
    "60 to 69: \"D\"\n",
    "Below 60: \"F\""
   ]
  },
  {
   "cell_type": "code",
   "execution_count": 23,
   "id": "7af89b61",
   "metadata": {},
   "outputs": [
    {
     "name": "stdout",
     "output_type": "stream",
     "text": [
      "enter your exam score 57\n",
      "57 is grade F \n"
     ]
    }
   ],
   "source": [
    "score= int(input(\"enter your exam score \"))\n",
    "if score >= 90:\n",
    "    print(f\"{score} is grade A \")\n",
    "elif score >=80 and score <=89:\n",
    "    print(f\"{score} is grade B \")\n",
    "elif score >= 70 and score <=79 :\n",
    "    print(f\"{score} is grade C \")\n",
    "elif score >= 60 and score <=69:\n",
    "    print(f\"{score} is grade D \")\n",
    "elif score < 60 :\n",
    "    print(f\"{score} is grade F \")"
   ]
  },
  {
   "cell_type": "markdown",
   "id": "1a267a75",
   "metadata": {},
   "source": [
    "Create a Python program that checks if a given year year is a leap year. If year is divisible by 4 and not divisible by 100, or it is divisible by 400, then it is a leap year. Print \"Leap year\" if it is, otherwise, print \"Not a leap year\"."
   ]
  },
  {
   "cell_type": "code",
   "execution_count": 29,
   "id": "34b7bbb2",
   "metadata": {},
   "outputs": [
    {
     "name": "stdout",
     "output_type": "stream",
     "text": [
      "Enter a year 2024\n",
      "Leap year\n"
     ]
    }
   ],
   "source": [
    "year = int(input(\"Enter a year \"))\n",
    "if year % 4 == 0 and year % 100 != 0 or year % 400 == 0:\n",
    "    print(\"Leap year\")\n",
    "else:\n",
    "    print(\"Not a leap year\")\n"
   ]
  },
  {
   "cell_type": "markdown",
   "id": "36ca3d24",
   "metadata": {},
   "source": [
    "Write a Python function called maximum that takes three arguments: a, b, and c. The function should use if statements to return the maximum value among the three"
   ]
  },
  {
   "cell_type": "code",
   "execution_count": 32,
   "id": "4ead65ed",
   "metadata": {},
   "outputs": [],
   "source": [
    "def maximum(a,b,c):\n",
    "    max_value = a\n",
    "    if b > max_value:\n",
    "        max_value = b\n",
    "    if c > max_value:\n",
    "        max_value = c\n",
    "    return max_value\n",
    "\n",
    "\n"
   ]
  },
  {
   "cell_type": "code",
   "execution_count": 33,
   "id": "28de1318",
   "metadata": {},
   "outputs": [
    {
     "data": {
      "text/plain": [
       "30"
      ]
     },
     "execution_count": 33,
     "metadata": {},
     "output_type": "execute_result"
    }
   ],
   "source": [
    "maximum(20,30,15)"
   ]
  },
  {
   "cell_type": "code",
   "execution_count": null,
   "id": "aa8b914f",
   "metadata": {},
   "outputs": [],
   "source": []
  },
  {
   "cell_type": "markdown",
   "id": "aacd270b",
   "metadata": {},
   "source": [
    "# for loop\n",
    "1. Write a Python for loop that prints the numbers from 1 to 10, inclusive.\n",
    "\n",
    "2. Create a Python program that calculates the sum of all the elements in a given list `numbers` using a for loop.\n",
    "\n",
    "3. Write a Python for loop that iterates over a string `message` and prints each character on a new line.\n",
    "\n",
    "4. Create a Python program that generates a multiplication table for a given number `n`. The table should display the first 10 multiples of `n`.\n",
    "\n",
    "5. Write a Python program that takes a list of words as input and uses a for loop to count the number of vowels (a, e, i, o, u) in each word. Print the word along with the vowel count for each word.\n",
    "\n"
   ]
  },
  {
   "cell_type": "code",
   "execution_count": 36,
   "id": "07ca4c71",
   "metadata": {},
   "outputs": [
    {
     "name": "stdout",
     "output_type": "stream",
     "text": [
      "1\n",
      "2\n",
      "3\n",
      "4\n",
      "5\n",
      "6\n",
      "7\n",
      "8\n",
      "9\n",
      "10\n"
     ]
    }
   ],
   "source": [
    " # Write a Python for loop that prints the numbers from 1 to 10, inclusive.\n",
    "for numbers in range(1,11):\n",
    "    print(numbers)\n"
   ]
  },
  {
   "cell_type": "code",
   "execution_count": 42,
   "id": "3815e521",
   "metadata": {},
   "outputs": [
    {
     "name": "stdout",
     "output_type": "stream",
     "text": [
      "The sum of the elements in the list is: 80\n"
     ]
    }
   ],
   "source": [
    " # Create a Python program that calculates the sum of all the elements in a given list numbers using a for loop.\n",
    "def calculate_sum(numbers):\n",
    "    \n",
    "    total_sum = 0\n",
    "    for number in numbers:\n",
    "        total_sum += number\n",
    "    return total_sum\n",
    "\n",
    "\n",
    "numbers = [20, 35, 8, 12, 5]  \n",
    "result = calculate_sum(numbers)\n",
    "print(f\"The sum of the elements in the list is: {result}\")\n",
    "\n",
    "\n"
   ]
  },
  {
   "cell_type": "code",
   "execution_count": 46,
   "id": "cad7339b",
   "metadata": {},
   "outputs": [
    {
     "name": "stdout",
     "output_type": "stream",
     "text": [
      "python is interesting 1 \n",
      "python is interesting 2 \n",
      "python is interesting 3 \n",
      "python is interesting 4 \n",
      "python is interesting 5 \n"
     ]
    }
   ],
   "source": [
    "# Write a Python for loop that iterates over a string `message` and prints each character on a new line.\n",
    "counter= 1\n",
    "while counter <=5:\n",
    "    print(f\"python is interesting {counter} \")\n",
    "    counter +=1 "
   ]
  },
  {
   "cell_type": "code",
   "execution_count": 51,
   "id": "533f89a0",
   "metadata": {},
   "outputs": [
    {
     "name": "stdout",
     "output_type": "stream",
     "text": [
      "Enter a number: 20\n",
      "Multiplication table for 20:\n",
      "20 x 1 = 20\n",
      "20 x 2 = 40\n",
      "20 x 3 = 60\n",
      "20 x 4 = 80\n",
      "20 x 5 = 100\n",
      "20 x 6 = 120\n",
      "20 x 7 = 140\n",
      "20 x 8 = 160\n",
      "20 x 9 = 180\n",
      "20 x 10 = 200\n"
     ]
    }
   ],
   "source": [
    "# Create a Python program that generates a multiplication table for a given number `n`. \n",
    "# The table should display the first 10 multiples of `n`.\n",
    "\n",
    "def multiplication_table(n):\n",
    "    # Generate and print the multiplication table for the number n\n",
    "    print(f\"Multiplication table for {n}:\")\n",
    "    for i in range(1, 11):\n",
    "        result = n * i\n",
    "        print(f\"{n} x {i} = {result}\")\n",
    "\n",
    "\n",
    "number = int(input(\"Enter a number: \"))  # Prompt the user for input\n",
    "multiplication_table(number)\n",
    "\n",
    "\n"
   ]
  },
  {
   "cell_type": "markdown",
   "id": "3aed6fc3",
   "metadata": {},
   "source": [
    "Write a Python program that takes a list of words as input and uses a for loop to count the number of vowels (a, e, i, o, u) in each word. Print the word along with the vowel count for each word."
   ]
  },
  {
   "cell_type": "code",
   "execution_count": 52,
   "id": "f01a1637",
   "metadata": {},
   "outputs": [
    {
     "name": "stdout",
     "output_type": "stream",
     "text": [
      "Enter a list of words separated by spaces: i am feeling good\n",
      "'i' has 1 vowel(s)\n",
      "'am' has 1 vowel(s)\n",
      "'feeling' has 3 vowel(s)\n",
      "'good' has 2 vowel(s)\n"
     ]
    }
   ],
   "source": [
    "def count_vowels(word):\n",
    "    # Define a set of vowels\n",
    "    vowels = set(\"aeiouAEIOU\")\n",
    "    # Count the number of vowels in the word\n",
    "    return sum(1 for char in word if char in vowels)\n",
    "\n",
    "def main():\n",
    "    \n",
    "    words = input(\"Enter a list of words separated by spaces: \").split()\n",
    "    \n",
    "    for word in words:\n",
    "        vowel_count = count_vowels(word)\n",
    "        print(f\"'{word}' has {vowel_count} vowel(s)\")\n",
    "\n",
    "\n",
    "if __name__ == \"__main__\":\n",
    "    main()\n"
   ]
  },
  {
   "cell_type": "code",
   "execution_count": null,
   "id": "7ab06e73",
   "metadata": {},
   "outputs": [],
   "source": []
  },
  {
   "cell_type": "code",
   "execution_count": null,
   "id": "eb4d7712",
   "metadata": {},
   "outputs": [],
   "source": []
  },
  {
   "cell_type": "markdown",
   "id": "e07f7d9a",
   "metadata": {},
   "source": [
    "# while loop\n",
    "1. Write a Python while loop that prints the numbers from 1 to 5, inclusive.\n",
    "\n",
    "2. Create a Python program that asks the user to enter a positive integer. Use a while loop to check if the input is a valid positive integer. Keep asking for input until a valid integer is entered.\n",
    "\n",
    "3. Write a Python while loop that calculates the sum of all the even numbers from 1 to 50.\n",
    "\n",
    "4. Create a Python program that simulates a simple guessing game. Generate a random number between 1 and 100, and then ask the user to guess the number. Provide hints like \"Too high\" or \"Too low\" until the user guesses the correct number. Use a while loop to keep the game running until the correct number is guessed.\n",
    "\n",
    "5. Write a Python program that takes a list of numbers as input and uses a while loop to find and print the largest number in the list. The program should keep asking the user for numbers until they enter \"done\" as a signal to stop entering numbers.\n",
    "\n"
   ]
  },
  {
   "cell_type": "code",
   "execution_count": 53,
   "id": "842237fe",
   "metadata": {},
   "outputs": [
    {
     "name": "stdout",
     "output_type": "stream",
     "text": [
      "1\n",
      "2\n",
      "3\n",
      "4\n",
      "5\n"
     ]
    }
   ],
   "source": [
    " # Write a Python while loop that prints the numbers from 1 to 5, inclusive.\n",
    "\n",
    "counter = 1\n",
    "while counter <= 5:\n",
    "    print(counter) \n",
    "    counter += 1    \n",
    "\n"
   ]
  },
  {
   "cell_type": "code",
   "execution_count": null,
   "id": "cf5366fb",
   "metadata": {},
   "outputs": [],
   "source": [
    "Create a Python program that asks the user to enter a positive integer. \n",
    "Use a while loop to check if the input is a valid positive integer. Keep asking for input until a valid integer is entered."
   ]
  },
  {
   "cell_type": "code",
   "execution_count": null,
   "id": "094559bb",
   "metadata": {},
   "outputs": [],
   "source": []
  },
  {
   "cell_type": "code",
   "execution_count": null,
   "id": "e09d07d9",
   "metadata": {},
   "outputs": [],
   "source": []
  },
  {
   "cell_type": "code",
   "execution_count": null,
   "id": "914add72",
   "metadata": {},
   "outputs": [],
   "source": []
  },
  {
   "cell_type": "code",
   "execution_count": null,
   "id": "851ef76a",
   "metadata": {},
   "outputs": [],
   "source": []
  },
  {
   "cell_type": "code",
   "execution_count": null,
   "id": "6ff9f468",
   "metadata": {},
   "outputs": [],
   "source": []
  },
  {
   "cell_type": "code",
   "execution_count": null,
   "id": "d0261118",
   "metadata": {},
   "outputs": [],
   "source": []
  },
  {
   "cell_type": "code",
   "execution_count": null,
   "id": "03e26254",
   "metadata": {},
   "outputs": [],
   "source": []
  },
  {
   "cell_type": "markdown",
   "id": "a200e229",
   "metadata": {},
   "source": [
    "\n",
    "1. Write a Python program that prints all the even numbers from 1 to 100.\n",
    "2. Create a Python function that takes a list of numbers as input and returns the sum of all the positive numbers in the list.\n",
    "3. Write a program that asks the user to input their age and prints out whether they are eligible to vote (age 18 or older) or not.\n",
    "4. Implement a Python function that takes a string as input and returns True if the string is a palindrome (reads the same forwards and backwards), otherwise returns False.\n",
    "5. Create a Python program that calculates the factorial of a given number using a while loop.\n",
    "6. Write a Python function that takes a list of integers as input and returns the maximum and minimum values in the list.\n",
    "7. Implement a program that generates a random number between 1 and 100 and asks the user to guess the number. Provide hints (higher/lower) until the user guesses correctly.\n",
    "8. Create a Python function that takes a list of strings as input and returns a new list with all the strings capitalized.\n",
    "9. Write a program that simulates a simple ATM machine. It should ask the user to enter their PIN, then give them options to withdraw, deposit, or check balance, and handle each option accordingly.\n",
    "10. Implement a Python function that takes a list of integers as input and returns a new list containing only the prime numbers from the original list.\n",
    "\n"
   ]
  },
  {
   "cell_type": "code",
   "execution_count": null,
   "id": "4a414d27",
   "metadata": {},
   "outputs": [],
   "source": []
  },
  {
   "cell_type": "code",
   "execution_count": null,
   "id": "1a0f8593",
   "metadata": {},
   "outputs": [],
   "source": []
  }
 ],
 "metadata": {
  "kernelspec": {
   "display_name": "Python 3 (ipykernel)",
   "language": "python",
   "name": "python3"
  },
  "language_info": {
   "codemirror_mode": {
    "name": "ipython",
    "version": 3
   },
   "file_extension": ".py",
   "mimetype": "text/x-python",
   "name": "python",
   "nbconvert_exporter": "python",
   "pygments_lexer": "ipython3",
   "version": "3.9.13"
  }
 },
 "nbformat": 4,
 "nbformat_minor": 5
}
