{
 "cells": [
  {
   "cell_type": "markdown",
   "id": "581ba270",
   "metadata": {},
   "source": [
    "# Exercise\n",
    "Build a guessing application that allow user to guess a number three times, if the user guess right within the time, the application should return \"won\" otherwise \"try again\""
   ]
  },
  {
   "cell_type": "code",
   "execution_count": null,
   "id": "4e63f419",
   "metadata": {},
   "outputs": [],
   "source": []
  },
  {
   "cell_type": "markdown",
   "id": "d8b51c0f",
   "metadata": {},
   "source": [
    "# Exercise\n",
    "\n",
    "write an programm for lasop such that when a user want to make enquiry about the cost of the courses available the school the application should return the following\n",
    "\n",
    "if the user input data science the appllication to return (400k at the discoount of 15%)\n",
    "if the user input web development the appllication to return (300k at the discoount of 15%)\n",
    "if the user input UiUX the appllication to return (200k at the discoount of 15%)"
   ]
  },
  {
   "cell_type": "code",
   "execution_count": null,
   "id": "24314401",
   "metadata": {},
   "outputs": [],
   "source": [
    "user_input = input(\"what course are you intent to make enquiry about \")"
   ]
  },
  {
   "cell_type": "code",
   "execution_count": null,
   "id": "ca0d496e",
   "metadata": {},
   "outputs": [],
   "source": []
  },
  {
   "cell_type": "markdown",
   "id": "839d8892",
   "metadata": {},
   "source": [
    "# Exercise\n",
    "write a program to group user into the age group as followed:\n",
    "    \n",
    "- if the user's age is 0-1 the user age Group is infant\n",
    "- if the user's age is =2 - 4 the user  age Group  is Toddler\n",
    "- if the user's age is =5 - 12 the user  age Group  is child\n",
    "- if the user's age is =13 - 19 the user  age Group  is Teenager\n",
    "- if the user's age is =20 - 39 the user  age Group  is Adult\n",
    "- if the user's age is =40 - 50 the user  age Group  is Middle Age\n",
    "- if the user's age is =60+ the user  age Group  is Senior Age"
   ]
  },
  {
   "cell_type": "code",
   "execution_count": null,
   "id": "e18d3b61",
   "metadata": {},
   "outputs": [],
   "source": []
  }
 ],
 "metadata": {
  "kernelspec": {
   "display_name": "Python 3 (ipykernel)",
   "language": "python",
   "name": "python3"
  },
  "language_info": {
   "codemirror_mode": {
    "name": "ipython",
    "version": 3
   },
   "file_extension": ".py",
   "mimetype": "text/x-python",
   "name": "python",
   "nbconvert_exporter": "python",
   "pygments_lexer": "ipython3",
   "version": "3.9.13"
  }
 },
 "nbformat": 4,
 "nbformat_minor": 5
}
