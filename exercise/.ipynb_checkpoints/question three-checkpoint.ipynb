{
 "cells": [
  {
   "cell_type": "markdown",
   "id": "159317ee",
   "metadata": {},
   "source": [
    "# if statement\n",
    "1. Write a Python if statement that checks if a variable `age` is greater than or equal to 18. If it is, print \"You are an adult\", otherwise, print \"You are a minor\".\n",
    "\n",
    "2. Create a Python if-else statement that checks if a number `num` is positive, negative, or zero. If `num` is positive, print \"Positive number\", if it is negative, print \"Negative number\", and if it is zero, print \"Zero\".\n",
    "\n",
    "3. Write a Python program that asks the user to enter their exam score. then print the corresponding grade according to the following criteria:\n",
    "   - 90 or above: \"A\"\n",
    "   - 80 to 89: \"B\"\n",
    "   - 70 to 79: \"C\"\n",
    "   - 60 to 69: \"D\"\n",
    "   - Below 60: \"F\"\n",
    "\n",
    "4. Create a Python program that checks if a given year `year` is a leap year. If `year` is divisible by 4 and not divisible by 100, or it is divisible by 400, then it is a leap year. Print \"Leap year\" if it is, otherwise, print \"Not a leap year\".\n",
    "\n",
    "5. Write a Python function called `maximum` that takes three arguments: `a`, `b`, and `c`. The function should use if statements to return the maximum value among the three.\n",
    "\n"
   ]
  },
  {
   "cell_type": "code",
   "execution_count": null,
   "id": "60f5574b",
   "metadata": {},
   "outputs": [],
   "source": []
  },
  {
   "cell_type": "code",
   "execution_count": null,
   "id": "48fbc182",
   "metadata": {},
   "outputs": [],
   "source": []
  },
  {
   "cell_type": "code",
   "execution_count": null,
   "id": "95d78279",
   "metadata": {},
   "outputs": [],
   "source": []
  },
  {
   "cell_type": "markdown",
   "id": "aacd270b",
   "metadata": {},
   "source": [
    "# for loop\n",
    "1. Write a Python for loop that prints the numbers from 1 to 10, inclusive.\n",
    "\n",
    "2. Create a Python program that calculates the sum of all the elements in a given list `numbers` using a for loop.\n",
    "\n",
    "3. Write a Python for loop that iterates over a string `message` and prints each character on a new line.\n",
    "\n",
    "4. Create a Python program that generates a multiplication table for a given number `n`. The table should display the first 10 multiples of `n`.\n",
    "\n",
    "5. Write a Python program that takes a list of words as input and uses a for loop to count the number of vowels (a, e, i, o, u) in each word. Print the word along with the vowel count for each word.\n",
    "\n"
   ]
  },
  {
   "cell_type": "code",
   "execution_count": null,
   "id": "afcbf92c",
   "metadata": {},
   "outputs": [],
   "source": []
  },
  {
   "cell_type": "code",
   "execution_count": null,
   "id": "3815e521",
   "metadata": {},
   "outputs": [],
   "source": []
  },
  {
   "cell_type": "markdown",
   "id": "e07f7d9a",
   "metadata": {},
   "source": [
    "# while loop\n",
    "1. Write a Python while loop that prints the numbers from 1 to 5, inclusive.\n",
    "\n",
    "2. Create a Python program that asks the user to enter a positive integer. Use a while loop to check if the input is a valid positive integer. Keep asking for input until a valid integer is entered.\n",
    "\n",
    "3. Write a Python while loop that calculates the sum of all the even numbers from 1 to 50.\n",
    "\n",
    "4. Create a Python program that simulates a simple guessing game. Generate a random number between 1 and 100, and then ask the user to guess the number. Provide hints like \"Too high\" or \"Too low\" until the user guesses the correct number. Use a while loop to keep the game running until the correct number is guessed.\n",
    "\n",
    "5. Write a Python program that takes a list of numbers as input and uses a while loop to find and print the largest number in the list. The program should keep asking the user for numbers until they enter \"done\" as a signal to stop entering numbers.\n",
    "\n"
   ]
  },
  {
   "cell_type": "code",
   "execution_count": null,
   "id": "842237fe",
   "metadata": {},
   "outputs": [],
   "source": []
  },
  {
   "cell_type": "markdown",
   "id": "a200e229",
   "metadata": {},
   "source": [
    "\n",
    "1. Write a Python program that prints all the even numbers from 1 to 100.\n",
    "2. Create a Python function that takes a list of numbers as input and returns the sum of all the positive numbers in the list.\n",
    "3. Write a program that asks the user to input their age and prints out whether they are eligible to vote (age 18 or older) or not.\n",
    "4. Implement a Python function that takes a string as input and returns True if the string is a palindrome (reads the same forwards and backwards), otherwise returns False.\n",
    "5. Create a Python program that calculates the factorial of a given number using a while loop.\n",
    "6. Write a Python function that takes a list of integers as input and returns the maximum and minimum values in the list.\n",
    "7. Implement a program that generates a random number between 1 and 100 and asks the user to guess the number. Provide hints (higher/lower) until the user guesses correctly.\n",
    "8. Create a Python function that takes a list of strings as input and returns a new list with all the strings capitalized.\n",
    "9. Write a program that simulates a simple ATM machine. It should ask the user to enter their PIN, then give them options to withdraw, deposit, or check balance, and handle each option accordingly.\n",
    "10. Implement a Python function that takes a list of integers as input and returns a new list containing only the prime numbers from the original list.\n",
    "\n"
   ]
  },
  {
   "cell_type": "code",
   "execution_count": null,
   "id": "4a414d27",
   "metadata": {},
   "outputs": [],
   "source": []
  },
  {
   "cell_type": "code",
   "execution_count": null,
   "id": "1a0f8593",
   "metadata": {},
   "outputs": [],
   "source": []
  }
 ],
 "metadata": {
  "kernelspec": {
   "display_name": "Python 3 (ipykernel)",
   "language": "python",
   "name": "python3"
  },
  "language_info": {
   "codemirror_mode": {
    "name": "ipython",
    "version": 3
   },
   "file_extension": ".py",
   "mimetype": "text/x-python",
   "name": "python",
   "nbconvert_exporter": "python",
   "pygments_lexer": "ipython3",
   "version": "3.9.13"
  }
 },
 "nbformat": 4,
 "nbformat_minor": 5
}
