{
 "cells": [
  {
   "cell_type": "markdown",
   "metadata": {},
   "source": [
    "# 1. Exercise \n",
    "\n",
    "1. Define a varible and assign a string \"Lagos School of Programming\" and return the string \"School\" to the screen\n",
    "2. Write a code the will reverse that string \" I am loving Python\"\n",
    "3. return the character of the string below by starting at index 4 to the last index of string, while skiping 3 characters\n",
    "\n",
    "\n",
    "`After python class, we will talk about numpy and pandas libraris before moving to machine learning`"
   ]
  },
  {
   "cell_type": "code",
   "execution_count": 15,
   "metadata": {},
   "outputs": [
    {
     "name": "stdout",
     "output_type": "stream",
     "text": [
      "Lagos school of programming\n"
     ]
    }
   ],
   "source": [
    "my_school=(\"Lagos school of programming\")\n",
    "print(my_school)"
   ]
  },
  {
   "cell_type": "code",
   "execution_count": 16,
   "metadata": {},
   "outputs": [
    {
     "data": {
      "text/plain": [
       "' school'"
      ]
     },
     "execution_count": 16,
     "metadata": {},
     "output_type": "execute_result"
    }
   ],
   "source": [
    "my_school[5:12]"
   ]
  },
  {
   "cell_type": "code",
   "execution_count": 1,
   "metadata": {},
   "outputs": [
    {
     "data": {
      "text/plain": [
       "'nohtyp evol i'"
      ]
     },
     "execution_count": 1,
     "metadata": {},
     "output_type": "execute_result"
    }
   ],
   "source": [
    "b=\"i love python\"\n",
    "b[::-1]"
   ]
  },
  {
   "cell_type": "code",
   "execution_count": null,
   "metadata": {},
   "outputs": [],
   "source": []
  },
  {
   "cell_type": "code",
   "execution_count": 6,
   "metadata": {},
   "outputs": [
    {
     "name": "stdout",
     "output_type": "stream",
     "text": [
      "After python class, we will talk about numpy and pandas libraris before moving to machine learning\n"
     ]
    }
   ],
   "source": [
    "name=(\"After python class, we will talk about numpy and pandas libraris before moving to machine learning\")\n",
    "print(name)"
   ]
  },
  {
   "cell_type": "code",
   "execution_count": 7,
   "metadata": {},
   "outputs": [
    {
     "data": {
      "text/plain": [
       "'rt swit uu  dla omnocean'"
      ]
     },
     "execution_count": 7,
     "metadata": {},
     "output_type": "execute_result"
    }
   ],
   "source": [
    "name[4::4]"
   ]
  },
  {
   "cell_type": "code",
   "execution_count": null,
   "metadata": {},
   "outputs": [],
   "source": []
  },
  {
   "cell_type": "markdown",
   "metadata": {},
   "source": [
    "# Exercise \n",
    "\n",
    "1. covert the following list to string and return the number of character we have\n",
    "\n",
    "`[\"python\", \"is\", \"fun\", \"but\", \"require\", \"alot\", \"of\", \"practicing\", \"to \", \"master\", \"it\"]`\n",
    "    \n",
    "2. covert the following string to a list using a dot character.`\"Python.is.a.multi.purpose.programming.language.we.can.use.it.for.machine.learning\"`\n",
    "\n",
    "____________________\n",
    "3. Define a variable `\"Javascript\"` and update it to `\"python\"`"
   ]
  },
  {
   "cell_type": "code",
   "execution_count": 8,
   "metadata": {},
   "outputs": [
    {
     "data": {
      "text/plain": [
       "58"
      ]
     },
     "execution_count": 8,
     "metadata": {},
     "output_type": "execute_result"
    }
   ],
   "source": [
    "ade =\"python\", \"is\", \"fun\", \"but\", \"require\", \"alot\", \"of\", \"practicing\", \"to \", \"master\", \"it\"\n",
    "len(\" \".join(ade))"
   ]
  },
  {
   "cell_type": "code",
   "execution_count": null,
   "metadata": {},
   "outputs": [],
   "source": []
  },
  {
   "cell_type": "code",
   "execution_count": 29,
   "metadata": {},
   "outputs": [
    {
     "data": {
      "text/plain": [
       "['Python',\n",
       " 'is',\n",
       " 'a',\n",
       " 'multi',\n",
       " 'purpose',\n",
       " 'programming',\n",
       " 'language',\n",
       " 'we',\n",
       " 'can',\n",
       " 'use',\n",
       " 'it',\n",
       " 'for',\n",
       " 'machine',\n",
       " 'learning']"
      ]
     },
     "execution_count": 29,
     "metadata": {},
     "output_type": "execute_result"
    }
   ],
   "source": [
    "ade=\"Python.is.a.multi.purpose.programming.language.we.can.use.it.for.machine.learning\"\n",
    "ade.split(\".\")\n"
   ]
  },
  {
   "cell_type": "code",
   "execution_count": 32,
   "metadata": {},
   "outputs": [
    {
     "data": {
      "text/plain": [
       "'python'"
      ]
     },
     "execution_count": 32,
     "metadata": {},
     "output_type": "execute_result"
    }
   ],
   "source": [
    "a= \"javascript\"\n",
    "a.replace(\"javascript\",\"python\")"
   ]
  },
  {
   "cell_type": "code",
   "execution_count": null,
   "metadata": {},
   "outputs": [],
   "source": []
  },
  {
   "cell_type": "markdown",
   "metadata": {},
   "source": [
    "# Exercise\n",
    "\n",
    "list1 =  [  [23,67,6,76], [[\"Adult\", \"Youth\", \"Tenager\", \"Toddler\"],\"Attractive\", \"Talkative\", \"Boldness\", \"Friendly\"]    \n",
    "           \n",
    ", [[[\"Lagos\", \"Ibadan\", \"Ilorin\", \"Kano\"], \"Nigeria\", \"Ghana\", \"Tunisia\", \"Algeria\"], \"Bad\", \"Good\", \"Best\", \"Better\"] ]\n",
    "\n",
    "\n",
    "**Using the list above, peform the following task**\n",
    "\n",
    "1. return element 6 from the list\n",
    "2. return elements \"Attractive\", \"Talkative\", \"Boldness\", \"Friendly\" from the list\n",
    "3. return element   \"Best\" from the list\n",
    "4. return elements  \"Ibadan\", \"Ilorin\", \"Kano\" from the list\n",
    "5. return elements \"Bad\", \"Good\", \"Best\", \"Better\" from the list"
   ]
  },
  {
   "cell_type": "code",
   "execution_count": 33,
   "metadata": {},
   "outputs": [],
   "source": [
    "list1 =  [  [23,67,6,76], [[\"Adult\", \"Youth\", \"Tenager\", \"Toddler\"],\"Attractive\", \"Talkative\", \"Boldness\", \"Friendly\"]    \n",
    "           \n",
    ", [[[\"Lagos\", \"Ibadan\", \"Ilorin\", \"Kano\"], \"Nigeria\", \"Ghana\", \"Tunisia\", \"Algeria\"], \"Bad\", \"Good\", \"Best\", \"Better\"] ]\n"
   ]
  },
  {
   "cell_type": "code",
   "execution_count": 34,
   "metadata": {},
   "outputs": [
    {
     "data": {
      "text/plain": [
       "['Attractive', 'Talkative', 'Boldness', 'Friendly']"
      ]
     },
     "execution_count": 34,
     "metadata": {},
     "output_type": "execute_result"
    }
   ],
   "source": [
    "list1[1][1:5]"
   ]
  },
  {
   "cell_type": "code",
   "execution_count": 42,
   "metadata": {},
   "outputs": [
    {
     "data": {
      "text/plain": [
       "['Ibadan', 'Ilorin', 'Kano']"
      ]
     },
     "execution_count": 42,
     "metadata": {},
     "output_type": "execute_result"
    }
   ],
   "source": [
    "list1[2][0][0][1:4]"
   ]
  },
  {
   "cell_type": "code",
   "execution_count": 47,
   "metadata": {},
   "outputs": [
    {
     "data": {
      "text/plain": [
       "'Tenager'"
      ]
     },
     "execution_count": 47,
     "metadata": {},
     "output_type": "execute_result"
    }
   ],
   "source": [
    "list1[1][0][2]"
   ]
  },
  {
   "cell_type": "code",
   "execution_count": 49,
   "metadata": {},
   "outputs": [
    {
     "data": {
      "text/plain": [
       "'Best'"
      ]
     },
     "execution_count": 49,
     "metadata": {},
     "output_type": "execute_result"
    }
   ],
   "source": [
    "list1[2][3]"
   ]
  },
  {
   "cell_type": "code",
   "execution_count": 51,
   "metadata": {},
   "outputs": [
    {
     "data": {
      "text/plain": [
       "['Bad', 'Good', 'Best', 'Better']"
      ]
     },
     "execution_count": 51,
     "metadata": {},
     "output_type": "execute_result"
    }
   ],
   "source": [
    "list1[2][1:5]"
   ]
  },
  {
   "cell_type": "code",
   "execution_count": null,
   "metadata": {},
   "outputs": [],
   "source": []
  }
 ],
 "metadata": {
  "kernelspec": {
   "display_name": "Python 3 (ipykernel)",
   "language": "python",
   "name": "python3"
  },
  "language_info": {
   "codemirror_mode": {
    "name": "ipython",
    "version": 3
   },
   "file_extension": ".py",
   "mimetype": "text/x-python",
   "name": "python",
   "nbconvert_exporter": "python",
   "pygments_lexer": "ipython3",
   "version": "3.9.13"
  }
 },
 "nbformat": 4,
 "nbformat_minor": 4
}
