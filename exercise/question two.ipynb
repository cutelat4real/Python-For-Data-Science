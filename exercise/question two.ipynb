{
 "cells": [
  {
   "cell_type": "markdown",
   "id": "581ba270",
   "metadata": {},
   "source": [
    "# Exercise\n",
    "Build a guessing application that allow user to guess a number three times, if the user guess right within the time, the application should return \"won\" otherwise \"try again\""
   ]
  },
  {
   "cell_type": "code",
   "execution_count": 4,
   "id": "4e63f419",
   "metadata": {},
   "outputs": [
    {
     "name": "stdout",
     "output_type": "stream",
     "text": [
      "enter a guess number 12\n",
      "enter a guess number 14\n",
      "enter a guess number 20\n",
      "you won\n"
     ]
    }
   ],
   "source": [
    "secret_number = 20\n",
    "no_of_attempt = 0\n",
    "limit_time = 2\n",
    "while no_of_attempt <= limit_time:\n",
    "    guess = int(input(\"enter a guess number \"))\n",
    "    no_of_attempt+=1\n",
    "    if guess== secret_number:\n",
    "        print(\"you won\")\n",
    "        break\n",
    "else: print(\"try again!!!\")"
   ]
  },
  {
   "cell_type": "markdown",
   "id": "d8b51c0f",
   "metadata": {},
   "source": [
    "# Exercise\n",
    "\n",
    "write an programm for lasop such that when a user want to make enquiry about the cost of the courses available the school the application should return the following\n",
    "\n",
    "if the user input data science the appllication to return (400k at the discoount of 15%)\n",
    "if the user input web development the appllication to return (300k at the discoount of 15%)\n",
    "if the user input UiUX the appllication to return (200k at the discoount of 15%)"
   ]
  },
  {
   "cell_type": "code",
   "execution_count": 8,
   "id": "57909ff5",
   "metadata": {},
   "outputs": [
    {
     "name": "stdout",
     "output_type": "stream",
     "text": [
      "please enter a course to know its priceweb development\n",
      "the price for the web development is 300, with 15% discount, you will be paying255.0\n"
     ]
    }
   ],
   "source": [
    "course= input(\"please enter a course to know its price\").lower()\n",
    "if course == \"data science\":\n",
    "    cost = 400\n",
    "    payment = cost * (1-0.15)\n",
    "    print(f\"the price for the data science is {cost}, with 15% discount, you will be paying{payment}\")\n",
    "elif course == \"web development\":\n",
    "    cost = 300\n",
    "    payment = cost * (1-0.15)\n",
    "    print(f\"the price for the web development is {cost}, with 15% discount, you will be paying{payment}\")  \n",
    "elif course == \"uiux\":\n",
    "    cost = 200\n",
    "    payment = cost * (1-0.15)\n",
    "    print(f\"the price for the uiux is {cost}, with 15% discount, you will be paying {payment}\")\n",
    "else:\n",
    "    print(f\"sorry we do not offer {course} at the moment\")"
   ]
  },
  {
   "cell_type": "markdown",
   "id": "839d8892",
   "metadata": {},
   "source": [
    "# Exercise\n",
    "write a program to group user into the age group as followed:\n",
    "    \n",
    "- if the user's age is 0-1 the user age Group is infant\n",
    "- if the user's age is =2 - 4 the user  age Group  is Toddler\n",
    "- if the user's age is =5 - 12 the user  age Group  is child\n",
    "- if the user's age is =13 - 19 the user  age Group  is Teenager\n",
    "- if the user's age is =20 - 39 the user  age Group  is Adult\n",
    "- if the user's age is =40 - 59 the user  age Group  is Middle Age\n",
    "- if the user's age is =60+ the user  age Group  is Senior Age"
   ]
  },
  {
   "cell_type": "code",
   "execution_count": 10,
   "id": "31205278",
   "metadata": {},
   "outputs": [
    {
     "name": "stdout",
     "output_type": "stream",
     "text": [
      "please enter your age to know your age group 1\n",
      "the entered age is 1, therefore, you are an infant\n"
     ]
    }
   ],
   "source": [
    "age= int(input(\"please enter your age to know your age group \"))\n",
    "if age<=1:\n",
    "    print(f\"the entered age is {age}, therefore, you are an infant\")\n",
    "elif age>=2 and age<= 4:\n",
    "    print(f\"the entered age is {age}, therefore, you are a toddler\")\n",
    "elif age>=5 and age<= 12:\n",
    "    print(f\"the entered age is {age}, therefore, you are a child\")\n",
    "elif age>=13 and age<= 19:\n",
    "    print(f\"the entered age is {age}, therefore, you are a teenager\")\n",
    "elif age>=20 and age<= 39:\n",
    "    print(f\"the entered age is {age}, therefore, you are a adult\")\n",
    "elif age>=40 and age<= 59:\n",
    "    print(f\"the entered age is {age}, therefore, you are a middle age\")\n",
    "else:\n",
    "    print(f\"the entered age is {age}, therefore, you are a senior age\")"
   ]
  },
  {
   "cell_type": "code",
   "execution_count": null,
   "id": "4762e01f",
   "metadata": {},
   "outputs": [],
   "source": []
  },
  {
   "cell_type": "code",
   "execution_count": null,
   "id": "e18d3b61",
   "metadata": {},
   "outputs": [],
   "source": []
  }
 ],
 "metadata": {
  "kernelspec": {
   "display_name": "Python 3 (ipykernel)",
   "language": "python",
   "name": "python3"
  },
  "language_info": {
   "codemirror_mode": {
    "name": "ipython",
    "version": 3
   },
   "file_extension": ".py",
   "mimetype": "text/x-python",
   "name": "python",
   "nbconvert_exporter": "python",
   "pygments_lexer": "ipython3",
   "version": "3.9.13"
  }
 },
 "nbformat": 4,
 "nbformat_minor": 5
}
