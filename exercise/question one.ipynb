{
 "cells": [
  {
   "cell_type": "markdown",
   "metadata": {},
   "source": [
    "# Exercise\n",
    "\n",
    "list1 =  [  [23,67,6,76], [[\"Adult\", \"Youth\", \"Tenager\", \"Toddler\"],\"Attractive\", \"Talkative\", \"Boldness\", \"Friendly\"]    \n",
    "           \n",
    ", [[[\"Lagos\", \"Ibadan\", \"Ilorin\", \"Kano\"], \"Nigeria\", \"Ghana\", \"Tunisia\", \"Algeria\"], \"Bad\", \"Good\", \"Best\", \"Better\"] ]\n",
    "\n",
    "\n",
    "**Using the list above, peform the following task**\n",
    "\n",
    "1. return element 6 from the list\n",
    "2. return elements \"Attractive\", \"Talkative\", \"Boldness\", \"Friendly\" from the list\n",
    "3. return element   \"Best\" from the list\n",
    "4. return elements  \"Ibadan\", \"Ilorin\", \"Kano\" from the list\n",
    "5. return elements \"Bad\", \"Good\", \"Best\", \"Better\" from the list"
   ]
  },
  {
   "cell_type": "code",
   "execution_count": 3,
   "metadata": {},
   "outputs": [
    {
     "data": {
      "text/plain": [
       "3"
      ]
     },
     "execution_count": 3,
     "metadata": {},
     "output_type": "execute_result"
    }
   ],
   "source": [
    "\n",
    "list1 =  [  [23,67,6,76], [ [\"Adult\", \"Youth\", \"Tenager\", \"Toddler\"],\"Attractive\", \"Talkative\", \"Boldness\", \"Friendly\"]    \n",
    "           \n",
    ", [ [ [\"Lagos\", \"Ibadan\", \"Ilorin\", \"Kano\"], \"Nigeria\", \"Ghana\", \"Tunisia\", \"Algeria\"], \"Bad\", \"Good\", \"Best\", \"Better\"] ]\n",
    "\n"
   ]
  }
 ],
 "metadata": {
  "kernelspec": {
   "display_name": "Python 3 (ipykernel)",
   "language": "python",
   "name": "python3"
  },
  "language_info": {
   "codemirror_mode": {
    "name": "ipython",
    "version": 3
   },
   "file_extension": ".py",
   "mimetype": "text/x-python",
   "name": "python",
   "nbconvert_exporter": "python",
   "pygments_lexer": "ipython3",
   "version": "3.9.13"
  }
 },
 "nbformat": 4,
 "nbformat_minor": 4
}
